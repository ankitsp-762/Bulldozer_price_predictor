{
  "cells": [
    {
      "cell_type": "markdown",
      "metadata": {
        "id": "view-in-github",
        "colab_type": "text"
      },
      "source": [
        "<a href=\"https://colab.research.google.com/github/ankitsp-762/Bulldozer_price_predictor/blob/main/Bulldozer_Price_Predictor.ipynb\" target=\"_parent\"><img src=\"https://colab.research.google.com/assets/colab-badge.svg\" alt=\"Open In Colab\"/></a>"
      ]
    },
    {
      "cell_type": "markdown",
      "id": "e14515f4",
      "metadata": {
        "id": "e14515f4"
      },
      "source": [
        "# Predicting the Sale Price Of Bulldozers   \n",
        "### Data\n",
        "The data is downloaded from the Kaggle Bluebook for Bulldozers competition: https://www.kaggle.com/c/bluebook-for-bulldozers/data\n",
        "\n",
        "There are 3 main datasets:\n",
        "\n",
        "**•** Train.csv is the training set, which contains data through the end of 2011.  \n",
        "**•** Valid.csv is the validation set, which contains data from January 1, 2012 - April 30, 2012 You make predictions on this set throughout the majority of the competition. Your score on this set is used to create the public leaderboard.  \n",
        "**•** Test.csv is the test set, which won't be released until the last week of the competition. It contains data from May 1, 2012 - November 2012. Your score on the test set determines your final rank for the competition.\n",
        "### Evaluation\n",
        "The evaluation metric for this competition is the RMSLE (root mean squared log error) between the actual and predicted auction prices.\n",
        "\n",
        "For more on the evaluation of this project check: https://www.kaggle.com/c/bluebook-for-bulldozers/overview/evaluation"
      ]
    },
    {
      "cell_type": "code",
      "execution_count": null,
      "id": "72e7545f",
      "metadata": {
        "id": "72e7545f"
      },
      "outputs": [],
      "source": [
        "import numpy as np\n",
        "import pandas as pd\n",
        "import matplotlib.pyplot as plt\n",
        "import sklearn"
      ]
    },
    {
      "cell_type": "code",
      "execution_count": null,
      "id": "305b8892",
      "metadata": {
        "id": "305b8892"
      },
      "outputs": [],
      "source": [
        "# Importing training and validation data\n",
        "df=pd.read_csv(\"data/bluebook-for-bulldozers/TrainAndValid.csv\",\n",
        "              low_memory=False)\n"
      ]
    },
    {
      "cell_type": "code",
      "execution_count": null,
      "id": "ab503c36",
      "metadata": {
        "id": "ab503c36",
        "outputId": "b584c872-132b-4342-df41-b0419fbd3fe1"
      },
      "outputs": [
        {
          "name": "stdout",
          "output_type": "stream",
          "text": [
            "<class 'pandas.core.frame.DataFrame'>\n",
            "RangeIndex: 412698 entries, 0 to 412697\n",
            "Data columns (total 53 columns):\n",
            " #   Column                    Non-Null Count   Dtype  \n",
            "---  ------                    --------------   -----  \n",
            " 0   SalesID                   412698 non-null  int64  \n",
            " 1   SalePrice                 412698 non-null  float64\n",
            " 2   MachineID                 412698 non-null  int64  \n",
            " 3   ModelID                   412698 non-null  int64  \n",
            " 4   datasource                412698 non-null  int64  \n",
            " 5   auctioneerID              392562 non-null  float64\n",
            " 6   YearMade                  412698 non-null  int64  \n",
            " 7   MachineHoursCurrentMeter  147504 non-null  float64\n",
            " 8   UsageBand                 73670 non-null   object \n",
            " 9   saledate                  412698 non-null  object \n",
            " 10  fiModelDesc               412698 non-null  object \n",
            " 11  fiBaseModel               412698 non-null  object \n",
            " 12  fiSecondaryDesc           271971 non-null  object \n",
            " 13  fiModelSeries             58667 non-null   object \n",
            " 14  fiModelDescriptor         74816 non-null   object \n",
            " 15  ProductSize               196093 non-null  object \n",
            " 16  fiProductClassDesc        412698 non-null  object \n",
            " 17  state                     412698 non-null  object \n",
            " 18  ProductGroup              412698 non-null  object \n",
            " 19  ProductGroupDesc          412698 non-null  object \n",
            " 20  Drive_System              107087 non-null  object \n",
            " 21  Enclosure                 412364 non-null  object \n",
            " 22  Forks                     197715 non-null  object \n",
            " 23  Pad_Type                  81096 non-null   object \n",
            " 24  Ride_Control              152728 non-null  object \n",
            " 25  Stick                     81096 non-null   object \n",
            " 26  Transmission              188007 non-null  object \n",
            " 27  Turbocharged              81096 non-null   object \n",
            " 28  Blade_Extension           25983 non-null   object \n",
            " 29  Blade_Width               25983 non-null   object \n",
            " 30  Enclosure_Type            25983 non-null   object \n",
            " 31  Engine_Horsepower         25983 non-null   object \n",
            " 32  Hydraulics                330133 non-null  object \n",
            " 33  Pushblock                 25983 non-null   object \n",
            " 34  Ripper                    106945 non-null  object \n",
            " 35  Scarifier                 25994 non-null   object \n",
            " 36  Tip_Control               25983 non-null   object \n",
            " 37  Tire_Size                 97638 non-null   object \n",
            " 38  Coupler                   220679 non-null  object \n",
            " 39  Coupler_System            44974 non-null   object \n",
            " 40  Grouser_Tracks            44875 non-null   object \n",
            " 41  Hydraulics_Flow           44875 non-null   object \n",
            " 42  Track_Type                102193 non-null  object \n",
            " 43  Undercarriage_Pad_Width   102916 non-null  object \n",
            " 44  Stick_Length              102261 non-null  object \n",
            " 45  Thumb                     102332 non-null  object \n",
            " 46  Pattern_Changer           102261 non-null  object \n",
            " 47  Grouser_Type              102193 non-null  object \n",
            " 48  Backhoe_Mounting          80712 non-null   object \n",
            " 49  Blade_Type                81875 non-null   object \n",
            " 50  Travel_Controls           81877 non-null   object \n",
            " 51  Differential_Type         71564 non-null   object \n",
            " 52  Steering_Controls         71522 non-null   object \n",
            "dtypes: float64(3), int64(5), object(45)\n",
            "memory usage: 166.9+ MB\n"
          ]
        }
      ],
      "source": [
        "df.info()"
      ]
    },
    {
      "cell_type": "code",
      "execution_count": null,
      "id": "c10cd444",
      "metadata": {
        "id": "c10cd444",
        "outputId": "9ef4a602-b9ba-4eef-8087-fa4a999a24ec"
      },
      "outputs": [
        {
          "data": {
            "text/plain": [
              "Text(0, 0.5, 'SalePrice')"
            ]
          },
          "execution_count": 87,
          "metadata": {},
          "output_type": "execute_result"
        },
        {
          "data": {
            "image/png": "[encoded data removed]",
            "text/plain": [
              "<Figure size 640x480 with 1 Axes>"
            ]
          },
          "metadata": {},
          "output_type": "display_data"
        }
      ],
      "source": [
        "fig, ax =plt.subplots()\n",
        "ax.scatter(df[\"saledate\"][:1000],df[\"SalePrice\"][:1000]);\n",
        "plt.xlabel(\"SaleDate\")\n",
        "plt.ylabel(\"SalePrice\")"
      ]
    },
    {
      "cell_type": "code",
      "execution_count": null,
      "id": "97ea9d96",
      "metadata": {
        "id": "97ea9d96",
        "outputId": "d00bb231-08fb-485f-edbb-e74b4e8361ba"
      },
      "outputs": [
        {
          "data": {
            "text/plain": [
              "<AxesSubplot:ylabel='Frequency'>"
            ]
          },
          "execution_count": 88,
          "metadata": {},
          "output_type": "execute_result"
        },
        {
          "data": {
            "image/png": "[encoded data removed]",
            "text/plain": [
              "<Figure size 640x480 with 1 Axes>"
            ]
          },
          "metadata": {},
          "output_type": "display_data"
        }
      ],
      "source": [
        "df.SalePrice.plot.hist()"
      ]
    },
    {
      "cell_type": "markdown",
      "id": "e86d5abc",
      "metadata": {
        "id": "e86d5abc"
      },
      "source": [
        "### Parsing Dates"
      ]
    },
    {
      "cell_type": "code",
      "execution_count": null,
      "id": "ae959adb",
      "metadata": {
        "id": "ae959adb"
      },
      "outputs": [],
      "source": [
        "df=pd.read_csv(\"data/bluebook-for-bulldozers/TrainAndValid.csv\",\n",
        "              low_memory=False,\n",
        "              parse_dates=[\"saledate\"])"
      ]
    },
    {
      "cell_type": "code",
      "execution_count": null,
      "id": "0125e613",
      "metadata": {
        "id": "0125e613",
        "outputId": "bdad3414-e812-43e6-b90b-d4b0b4b8c1f4"
      },
      "outputs": [
        {
          "data": {
            "text/plain": [
              "0    2006-11-16\n",
              "1    2004-03-26\n",
              "2    2004-02-26\n",
              "3    2011-05-19\n",
              "4    2009-07-23\n",
              "        ...    \n",
              "95   2005-12-15\n",
              "96   2004-01-29\n",
              "97   2008-09-18\n",
              "98   2005-11-03\n",
              "99   2006-06-01\n",
              "Name: saledate, Length: 100, dtype: datetime64[ns]"
            ]
          },
          "execution_count": 91,
          "metadata": {},
          "output_type": "execute_result"
        }
      ],
      "source": [
        "df.saledate[:100]"
      ]
    },
    {
      "cell_type": "code",
      "execution_count": null,
      "id": "01377fe1",
      "metadata": {
        "id": "01377fe1",
        "outputId": "a836d11a-c822-4da4-f149-8f7e79aada2d"
      },
      "outputs": [
        {
          "data": {
            "text/plain": [
              "SalesID                          0\n",
              "SalePrice                        0\n",
              "MachineID                        0\n",
              "ModelID                          0\n",
              "datasource                       0\n",
              "auctioneerID                 20136\n",
              "YearMade                         0\n",
              "MachineHoursCurrentMeter    265194\n",
              "UsageBand                   339028\n",
              "saledate                         0\n",
              "fiModelDesc                      0\n",
              "fiBaseModel                      0\n",
              "fiSecondaryDesc             140727\n",
              "fiModelSeries               354031\n",
              "fiModelDescriptor           337882\n",
              "ProductSize                 216605\n",
              "fiProductClassDesc               0\n",
              "state                            0\n",
              "ProductGroup                     0\n",
              "ProductGroupDesc                 0\n",
              "Drive_System                305611\n",
              "Enclosure                      334\n",
              "Forks                       214983\n",
              "Pad_Type                    331602\n",
              "Ride_Control                259970\n",
              "Stick                       331602\n",
              "Transmission                224691\n",
              "Turbocharged                331602\n",
              "Blade_Extension             386715\n",
              "Blade_Width                 386715\n",
              "Enclosure_Type              386715\n",
              "Engine_Horsepower           386715\n",
              "Hydraulics                   82565\n",
              "Pushblock                   386715\n",
              "Ripper                      305753\n",
              "Scarifier                   386704\n",
              "Tip_Control                 386715\n",
              "Tire_Size                   315060\n",
              "Coupler                     192019\n",
              "Coupler_System              367724\n",
              "Grouser_Tracks              367823\n",
              "Hydraulics_Flow             367823\n",
              "Track_Type                  310505\n",
              "Undercarriage_Pad_Width     309782\n",
              "Stick_Length                310437\n",
              "Thumb                       310366\n",
              "Pattern_Changer             310437\n",
              "Grouser_Type                310505\n",
              "Backhoe_Mounting            331986\n",
              "Blade_Type                  330823\n",
              "Travel_Controls             330821\n",
              "Differential_Type           341134\n",
              "Steering_Controls           341176\n",
              "dtype: int64"
            ]
          },
          "execution_count": 92,
          "metadata": {},
          "output_type": "execute_result"
        }
      ],
      "source": [
        "df.isna().sum()"
      ]
    },
    {
      "cell_type": "code",
      "execution_count": null,
      "id": "57bd3d64",
      "metadata": {
        "id": "57bd3d64",
        "outputId": "620f6bc8-9468-4bb9-db38-da53e888be44"
      },
      "outputs": [
        {
          "data": {
            "text/plain": [
              "Text(0, 0.5, 'SalePrice')"
            ]
          },
          "execution_count": 93,
          "metadata": {},
          "output_type": "execute_result"
        },
        {
          "data": {
            "image/png": "[encoded data removed]",
            "text/plain": [
              "<Figure size 640x480 with 1 Axes>"
            ]
          },
          "metadata": {},
          "output_type": "display_data"
        }
      ],
      "source": [
        "fig,ax=plt.subplots()\n",
        "ax.scatter(df[\"saledate\"][:1000],df[\"SalePrice\"][:1000]);\n",
        "plt.xlabel(\"SaleDate\")\n",
        "plt.ylabel(\"SalePrice\")"
      ]
    },
    {
      "cell_type": "code",
      "execution_count": null,
      "id": "3a2cea9d",
      "metadata": {
        "id": "3a2cea9d",
        "outputId": "953186d9-6f86-4f95-94af-aa61ead33311"
      },
      "outputs": [
        {
          "data": {
            "text/html": [
              "<div>\n",
              "<style scoped>\n",
              "    .dataframe tbody tr th:only-of-type {\n",
              "        vertical-align: middle;\n",
              "    }\n",
              "\n",
              "    .dataframe tbody tr th {\n",
              "        vertical-align: top;\n",
              "    }\n",
              "\n",
              "    .dataframe thead th {\n",
              "        text-align: right;\n",
              "    }\n",
              "</style>\n",
              "<table border=\"1\" class=\"dataframe\">\n",
              "  <thead>\n",
              "    <tr style=\"text-align: right;\">\n",
              "      <th></th>\n",
              "      <th>SalesID</th>\n",
              "      <th>SalePrice</th>\n",
              "      <th>MachineID</th>\n",
              "      <th>ModelID</th>\n",
              "      <th>datasource</th>\n",
              "      <th>auctioneerID</th>\n",
              "      <th>YearMade</th>\n",
              "      <th>MachineHoursCurrentMeter</th>\n",
              "      <th>UsageBand</th>\n",
              "      <th>saledate</th>\n",
              "      <th>...</th>\n",
              "      <th>Undercarriage_Pad_Width</th>\n",
              "      <th>Stick_Length</th>\n",
              "      <th>Thumb</th>\n",
              "      <th>Pattern_Changer</th>\n",
              "      <th>Grouser_Type</th>\n",
              "      <th>Backhoe_Mounting</th>\n",
              "      <th>Blade_Type</th>\n",
              "      <th>Travel_Controls</th>\n",
              "      <th>Differential_Type</th>\n",
              "      <th>Steering_Controls</th>\n",
              "    </tr>\n",
              "  </thead>\n",
              "  <tbody>\n",
              "    <tr>\n",
              "      <th>0</th>\n",
              "      <td>1139246</td>\n",
              "      <td>66000.0</td>\n",
              "      <td>999089</td>\n",
              "      <td>3157</td>\n",
              "      <td>121</td>\n",
              "      <td>3.0</td>\n",
              "      <td>2004</td>\n",
              "      <td>68.0</td>\n",
              "      <td>Low</td>\n",
              "      <td>2006-11-16</td>\n",
              "      <td>...</td>\n",
              "      <td>NaN</td>\n",
              "      <td>NaN</td>\n",
              "      <td>NaN</td>\n",
              "      <td>NaN</td>\n",
              "      <td>NaN</td>\n",
              "      <td>NaN</td>\n",
              "      <td>NaN</td>\n",
              "      <td>NaN</td>\n",
              "      <td>Standard</td>\n",
              "      <td>Conventional</td>\n",
              "    </tr>\n",
              "    <tr>\n",
              "      <th>1</th>\n",
              "      <td>1139248</td>\n",
              "      <td>57000.0</td>\n",
              "      <td>117657</td>\n",
              "      <td>77</td>\n",
              "      <td>121</td>\n",
              "      <td>3.0</td>\n",
              "      <td>1996</td>\n",
              "      <td>4640.0</td>\n",
              "      <td>Low</td>\n",
              "      <td>2004-03-26</td>\n",
              "      <td>...</td>\n",
              "      <td>NaN</td>\n",
              "      <td>NaN</td>\n",
              "      <td>NaN</td>\n",
              "      <td>NaN</td>\n",
              "      <td>NaN</td>\n",
              "      <td>NaN</td>\n",
              "      <td>NaN</td>\n",
              "      <td>NaN</td>\n",
              "      <td>Standard</td>\n",
              "      <td>Conventional</td>\n",
              "    </tr>\n",
              "    <tr>\n",
              "      <th>2</th>\n",
              "      <td>1139249</td>\n",
              "      <td>10000.0</td>\n",
              "      <td>434808</td>\n",
              "      <td>7009</td>\n",
              "      <td>121</td>\n",
              "      <td>3.0</td>\n",
              "      <td>2001</td>\n",
              "      <td>2838.0</td>\n",
              "      <td>High</td>\n",
              "      <td>2004-02-26</td>\n",
              "      <td>...</td>\n",
              "      <td>NaN</td>\n",
              "      <td>NaN</td>\n",
              "      <td>NaN</td>\n",
              "      <td>NaN</td>\n",
              "      <td>NaN</td>\n",
              "      <td>NaN</td>\n",
              "      <td>NaN</td>\n",
              "      <td>NaN</td>\n",
              "      <td>NaN</td>\n",
              "      <td>NaN</td>\n",
              "    </tr>\n",
              "    <tr>\n",
              "      <th>3</th>\n",
              "      <td>1139251</td>\n",
              "      <td>38500.0</td>\n",
              "      <td>1026470</td>\n",
              "      <td>332</td>\n",
              "      <td>121</td>\n",
              "      <td>3.0</td>\n",
              "      <td>2001</td>\n",
              "      <td>3486.0</td>\n",
              "      <td>High</td>\n",
              "      <td>2011-05-19</td>\n",
              "      <td>...</td>\n",
              "      <td>NaN</td>\n",
              "      <td>NaN</td>\n",
              "      <td>NaN</td>\n",
              "      <td>NaN</td>\n",
              "      <td>NaN</td>\n",
              "      <td>NaN</td>\n",
              "      <td>NaN</td>\n",
              "      <td>NaN</td>\n",
              "      <td>NaN</td>\n",
              "      <td>NaN</td>\n",
              "    </tr>\n",
              "    <tr>\n",
              "      <th>4</th>\n",
              "      <td>1139253</td>\n",
              "      <td>11000.0</td>\n",
              "      <td>1057373</td>\n",
              "      <td>17311</td>\n",
              "      <td>121</td>\n",
              "      <td>3.0</td>\n",
              "      <td>2007</td>\n",
              "      <td>722.0</td>\n",
              "      <td>Medium</td>\n",
              "      <td>2009-07-23</td>\n",
              "      <td>...</td>\n",
              "      <td>NaN</td>\n",
              "      <td>NaN</td>\n",
              "      <td>NaN</td>\n",
              "      <td>NaN</td>\n",
              "      <td>NaN</td>\n",
              "      <td>NaN</td>\n",
              "      <td>NaN</td>\n",
              "      <td>NaN</td>\n",
              "      <td>NaN</td>\n",
              "      <td>NaN</td>\n",
              "    </tr>\n",
              "  </tbody>\n",
              "</table>\n",
              "<p>5 rows × 53 columns</p>\n",
              "</div>"
            ],
            "text/plain": [
              "   SalesID  SalePrice  MachineID  ModelID  datasource  auctioneerID  YearMade  \\\n",
              "0  1139246    66000.0     999089     3157         121           3.0      2004   \n",
              "1  1139248    57000.0     117657       77         121           3.0      1996   \n",
              "2  1139249    10000.0     434808     7009         121           3.0      2001   \n",
              "3  1139251    38500.0    1026470      332         121           3.0      2001   \n",
              "4  1139253    11000.0    1057373    17311         121           3.0      2007   \n",
              "\n",
              "   MachineHoursCurrentMeter UsageBand   saledate  ... Undercarriage_Pad_Width  \\\n",
              "0                      68.0       Low 2006-11-16  ...                     NaN   \n",
              "1                    4640.0       Low 2004-03-26  ...                     NaN   \n",
              "2                    2838.0      High 2004-02-26  ...                     NaN   \n",
              "3                    3486.0      High 2011-05-19  ...                     NaN   \n",
              "4                     722.0    Medium 2009-07-23  ...                     NaN   \n",
              "\n",
              "  Stick_Length Thumb Pattern_Changer Grouser_Type Backhoe_Mounting Blade_Type  \\\n",
              "0          NaN   NaN             NaN          NaN              NaN        NaN   \n",
              "1          NaN   NaN             NaN          NaN              NaN        NaN   \n",
              "2          NaN   NaN             NaN          NaN              NaN        NaN   \n",
              "3          NaN   NaN             NaN          NaN              NaN        NaN   \n",
              "4          NaN   NaN             NaN          NaN              NaN        NaN   \n",
              "\n",
              "  Travel_Controls Differential_Type Steering_Controls  \n",
              "0             NaN          Standard      Conventional  \n",
              "1             NaN          Standard      Conventional  \n",
              "2             NaN               NaN               NaN  \n",
              "3             NaN               NaN               NaN  \n",
              "4             NaN               NaN               NaN  \n",
              "\n",
              "[5 rows x 53 columns]"
            ]
          },
          "execution_count": 94,
          "metadata": {},
          "output_type": "execute_result"
        }
      ],
      "source": [
        "df.head()"
      ]
    },
    {
      "cell_type": "code",
      "execution_count": null,
      "id": "0fb90bd1",
      "metadata": {
        "id": "0fb90bd1",
        "outputId": "c43b3b3b-95f1-4c76-bee6-906f7cf5d1b0"
      },
      "outputs": [
        {
          "data": {
            "text/plain": [
              "0   2006-11-16\n",
              "1   2004-03-26\n",
              "2   2004-02-26\n",
              "3   2011-05-19\n",
              "4   2009-07-23\n",
              "5   2008-12-18\n",
              "6   2004-08-26\n",
              "7   2005-11-17\n",
              "8   2009-08-27\n",
              "9   2007-08-09\n",
              "Name: saledate, dtype: datetime64[ns]"
            ]
          },
          "execution_count": 95,
          "metadata": {},
          "output_type": "execute_result"
        }
      ],
      "source": [
        "df.saledate.head(10)"
      ]
    },
    {
      "cell_type": "markdown",
      "id": "83aa15ab",
      "metadata": {
        "id": "83aa15ab"
      },
      "source": [
        "### Sort DataFrame by saledate"
      ]
    },
    {
      "cell_type": "code",
      "execution_count": null,
      "id": "e3fc97de",
      "metadata": {
        "id": "e3fc97de",
        "outputId": "4bae9f92-d808-4568-861e-8cdbf9fc4dd1"
      },
      "outputs": [
        {
          "data": {
            "text/plain": [
              "205615   1989-01-17\n",
              "274835   1989-01-31\n",
              "141296   1989-01-31\n",
              "212552   1989-01-31\n",
              "62755    1989-01-31\n",
              "54653    1989-01-31\n",
              "81383    1989-01-31\n",
              "204924   1989-01-31\n",
              "135376   1989-01-31\n",
              "113390   1989-01-31\n",
              "Name: saledate, dtype: datetime64[ns]"
            ]
          },
          "execution_count": 96,
          "metadata": {},
          "output_type": "execute_result"
        }
      ],
      "source": [
        "df.sort_values(by=[\"saledate\"],inplace=True,ascending=True)\n",
        "df.saledate.head(10)"
      ]
    },
    {
      "cell_type": "code",
      "execution_count": null,
      "id": "ef9540b3",
      "metadata": {
        "id": "ef9540b3"
      },
      "outputs": [],
      "source": [
        "df_temp=df.copy()"
      ]
    },
    {
      "cell_type": "code",
      "execution_count": null,
      "id": "867449c4",
      "metadata": {
        "id": "867449c4",
        "outputId": "e0005b38-8bd5-4d2d-dfbb-03871b62ec78"
      },
      "outputs": [
        {
          "data": {
            "text/plain": [
              "205615   1989-01-17\n",
              "274835   1989-01-31\n",
              "141296   1989-01-31\n",
              "212552   1989-01-31\n",
              "62755    1989-01-31\n",
              "            ...    \n",
              "410879   2012-04-28\n",
              "412476   2012-04-28\n",
              "411927   2012-04-28\n",
              "407124   2012-04-28\n",
              "409203   2012-04-28\n",
              "Name: saledate, Length: 412698, dtype: datetime64[ns]"
            ]
          },
          "execution_count": 98,
          "metadata": {},
          "output_type": "execute_result"
        }
      ],
      "source": [
        "df_temp.saledate"
      ]
    },
    {
      "cell_type": "markdown",
      "id": "4abeea94",
      "metadata": {
        "id": "4abeea94"
      },
      "source": [
        "## Add datetime parameter for `saledate` column"
      ]
    },
    {
      "cell_type": "code",
      "execution_count": null,
      "id": "c6dab0a1",
      "metadata": {
        "id": "c6dab0a1"
      },
      "outputs": [],
      "source": [
        "df_temp[\"saleYear\"]=df_temp[\"saledate\"].dt.year\n",
        "df_temp[\"saleMonth\"]=df_temp[\"saledate\"].dt.month\n",
        "df_temp[\"saleDay\"]=df_temp[\"saledate\"].dt.day\n",
        "df_temp[\"saleDayOfWeek\"]=df_temp[\"saledate\"].dt.dayofweek\n",
        "df_temp[\"saleDayOfYear\"]=df_temp[\"saledate\"].dt.dayofyear"
      ]
    },
    {
      "cell_type": "code",
      "execution_count": null,
      "id": "d6e5de67",
      "metadata": {
        "id": "d6e5de67",
        "outputId": "fe362988-709b-4ed4-d3df-f7698745d1c8"
      },
      "outputs": [
        {
          "data": {
            "text/html": [
              "<div>\n",
              "<style scoped>\n",
              "    .dataframe tbody tr th:only-of-type {\n",
              "        vertical-align: middle;\n",
              "    }\n",
              "\n",
              "    .dataframe tbody tr th {\n",
              "        vertical-align: top;\n",
              "    }\n",
              "\n",
              "    .dataframe thead th {\n",
              "        text-align: right;\n",
              "    }\n",
              "</style>\n",
              "<table border=\"1\" class=\"dataframe\">\n",
              "  <thead>\n",
              "    <tr style=\"text-align: right;\">\n",
              "      <th></th>\n",
              "      <th>SalesID</th>\n",
              "      <th>SalePrice</th>\n",
              "      <th>MachineID</th>\n",
              "      <th>ModelID</th>\n",
              "      <th>datasource</th>\n",
              "      <th>auctioneerID</th>\n",
              "      <th>YearMade</th>\n",
              "      <th>MachineHoursCurrentMeter</th>\n",
              "      <th>UsageBand</th>\n",
              "      <th>fiModelDesc</th>\n",
              "      <th>...</th>\n",
              "      <th>Backhoe_Mounting</th>\n",
              "      <th>Blade_Type</th>\n",
              "      <th>Travel_Controls</th>\n",
              "      <th>Differential_Type</th>\n",
              "      <th>Steering_Controls</th>\n",
              "      <th>saleYear</th>\n",
              "      <th>saleMonth</th>\n",
              "      <th>saleDay</th>\n",
              "      <th>saleDayOfWeek</th>\n",
              "      <th>saleDayOfYear</th>\n",
              "    </tr>\n",
              "  </thead>\n",
              "  <tbody>\n",
              "    <tr>\n",
              "      <th>205615</th>\n",
              "      <td>1646770</td>\n",
              "      <td>9500.0</td>\n",
              "      <td>1126363</td>\n",
              "      <td>8434</td>\n",
              "      <td>132</td>\n",
              "      <td>18.0</td>\n",
              "      <td>1974</td>\n",
              "      <td>NaN</td>\n",
              "      <td>NaN</td>\n",
              "      <td>TD20</td>\n",
              "      <td>...</td>\n",
              "      <td>None or Unspecified</td>\n",
              "      <td>Straight</td>\n",
              "      <td>None or Unspecified</td>\n",
              "      <td>NaN</td>\n",
              "      <td>NaN</td>\n",
              "      <td>1989</td>\n",
              "      <td>1</td>\n",
              "      <td>17</td>\n",
              "      <td>1</td>\n",
              "      <td>17</td>\n",
              "    </tr>\n",
              "    <tr>\n",
              "      <th>274835</th>\n",
              "      <td>1821514</td>\n",
              "      <td>14000.0</td>\n",
              "      <td>1194089</td>\n",
              "      <td>10150</td>\n",
              "      <td>132</td>\n",
              "      <td>99.0</td>\n",
              "      <td>1980</td>\n",
              "      <td>NaN</td>\n",
              "      <td>NaN</td>\n",
              "      <td>A66</td>\n",
              "      <td>...</td>\n",
              "      <td>NaN</td>\n",
              "      <td>NaN</td>\n",
              "      <td>NaN</td>\n",
              "      <td>Standard</td>\n",
              "      <td>Conventional</td>\n",
              "      <td>1989</td>\n",
              "      <td>1</td>\n",
              "      <td>31</td>\n",
              "      <td>1</td>\n",
              "      <td>31</td>\n",
              "    </tr>\n",
              "    <tr>\n",
              "      <th>141296</th>\n",
              "      <td>1505138</td>\n",
              "      <td>50000.0</td>\n",
              "      <td>1473654</td>\n",
              "      <td>4139</td>\n",
              "      <td>132</td>\n",
              "      <td>99.0</td>\n",
              "      <td>1978</td>\n",
              "      <td>NaN</td>\n",
              "      <td>NaN</td>\n",
              "      <td>D7G</td>\n",
              "      <td>...</td>\n",
              "      <td>None or Unspecified</td>\n",
              "      <td>Straight</td>\n",
              "      <td>None or Unspecified</td>\n",
              "      <td>NaN</td>\n",
              "      <td>NaN</td>\n",
              "      <td>1989</td>\n",
              "      <td>1</td>\n",
              "      <td>31</td>\n",
              "      <td>1</td>\n",
              "      <td>31</td>\n",
              "    </tr>\n",
              "    <tr>\n",
              "      <th>212552</th>\n",
              "      <td>1671174</td>\n",
              "      <td>16000.0</td>\n",
              "      <td>1327630</td>\n",
              "      <td>8591</td>\n",
              "      <td>132</td>\n",
              "      <td>99.0</td>\n",
              "      <td>1980</td>\n",
              "      <td>NaN</td>\n",
              "      <td>NaN</td>\n",
              "      <td>A62</td>\n",
              "      <td>...</td>\n",
              "      <td>NaN</td>\n",
              "      <td>NaN</td>\n",
              "      <td>NaN</td>\n",
              "      <td>Standard</td>\n",
              "      <td>Conventional</td>\n",
              "      <td>1989</td>\n",
              "      <td>1</td>\n",
              "      <td>31</td>\n",
              "      <td>1</td>\n",
              "      <td>31</td>\n",
              "    </tr>\n",
              "    <tr>\n",
              "      <th>62755</th>\n",
              "      <td>1329056</td>\n",
              "      <td>22000.0</td>\n",
              "      <td>1336053</td>\n",
              "      <td>4089</td>\n",
              "      <td>132</td>\n",
              "      <td>99.0</td>\n",
              "      <td>1984</td>\n",
              "      <td>NaN</td>\n",
              "      <td>NaN</td>\n",
              "      <td>D3B</td>\n",
              "      <td>...</td>\n",
              "      <td>None or Unspecified</td>\n",
              "      <td>PAT</td>\n",
              "      <td>Lever</td>\n",
              "      <td>NaN</td>\n",
              "      <td>NaN</td>\n",
              "      <td>1989</td>\n",
              "      <td>1</td>\n",
              "      <td>31</td>\n",
              "      <td>1</td>\n",
              "      <td>31</td>\n",
              "    </tr>\n",
              "  </tbody>\n",
              "</table>\n",
              "<p>5 rows × 57 columns</p>\n",
              "</div>"
            ],
            "text/plain": [
              "        SalesID  SalePrice  MachineID  ModelID  datasource  auctioneerID  \\\n",
              "205615  1646770     9500.0    1126363     8434         132          18.0   \n",
              "274835  1821514    14000.0    1194089    10150         132          99.0   \n",
              "141296  1505138    50000.0    1473654     4139         132          99.0   \n",
              "212552  1671174    16000.0    1327630     8591         132          99.0   \n",
              "62755   1329056    22000.0    1336053     4089         132          99.0   \n",
              "\n",
              "        YearMade  MachineHoursCurrentMeter UsageBand fiModelDesc  ...  \\\n",
              "205615      1974                       NaN       NaN        TD20  ...   \n",
              "274835      1980                       NaN       NaN         A66  ...   \n",
              "141296      1978                       NaN       NaN         D7G  ...   \n",
              "212552      1980                       NaN       NaN         A62  ...   \n",
              "62755       1984                       NaN       NaN         D3B  ...   \n",
              "\n",
              "           Backhoe_Mounting Blade_Type      Travel_Controls Differential_Type  \\\n",
              "205615  None or Unspecified   Straight  None or Unspecified               NaN   \n",
              "274835                  NaN        NaN                  NaN          Standard   \n",
              "141296  None or Unspecified   Straight  None or Unspecified               NaN   \n",
              "212552                  NaN        NaN                  NaN          Standard   \n",
              "62755   None or Unspecified        PAT                Lever               NaN   \n",
              "\n",
              "       Steering_Controls saleYear saleMonth saleDay saleDayOfWeek  \\\n",
              "205615               NaN     1989         1      17             1   \n",
              "274835      Conventional     1989         1      31             1   \n",
              "141296               NaN     1989         1      31             1   \n",
              "212552      Conventional     1989         1      31             1   \n",
              "62755                NaN     1989         1      31             1   \n",
              "\n",
              "       saleDayOfYear  \n",
              "205615            17  \n",
              "274835            31  \n",
              "141296            31  \n",
              "212552            31  \n",
              "62755             31  \n",
              "\n",
              "[5 rows x 57 columns]"
            ]
          },
          "execution_count": 100,
          "metadata": {},
          "output_type": "execute_result"
        }
      ],
      "source": [
        "df_temp.drop(\"saledate\",axis=1,inplace=True)\n",
        "df_temp.head()"
      ]
    },
    {
      "cell_type": "markdown",
      "id": "b60ccf04",
      "metadata": {
        "id": "b60ccf04"
      },
      "source": [
        "## Convert String to Categories"
      ]
    },
    {
      "cell_type": "code",
      "execution_count": null,
      "id": "74af5ff3",
      "metadata": {
        "id": "74af5ff3"
      },
      "outputs": [],
      "source": [
        "for label,value in df_temp.items():\n",
        "    if(pd.api.types.is_string_dtype(value)):\n",
        "        df_temp[label]=value.astype(\"category\").cat.as_ordered()"
      ]
    },
    {
      "cell_type": "code",
      "execution_count": null,
      "id": "4d6a00ef",
      "metadata": {
        "id": "4d6a00ef",
        "outputId": "8e622e9e-a822-4cac-aaa5-e659def3848b"
      },
      "outputs": [
        {
          "name": "stdout",
          "output_type": "stream",
          "text": [
            "<class 'pandas.core.frame.DataFrame'>\n",
            "Int64Index: 412698 entries, 205615 to 409203\n",
            "Data columns (total 57 columns):\n",
            " #   Column                    Non-Null Count   Dtype   \n",
            "---  ------                    --------------   -----   \n",
            " 0   SalesID                   412698 non-null  int64   \n",
            " 1   SalePrice                 412698 non-null  float64 \n",
            " 2   MachineID                 412698 non-null  int64   \n",
            " 3   ModelID                   412698 non-null  int64   \n",
            " 4   datasource                412698 non-null  int64   \n",
            " 5   auctioneerID              392562 non-null  float64 \n",
            " 6   YearMade                  412698 non-null  int64   \n",
            " 7   MachineHoursCurrentMeter  147504 non-null  float64 \n",
            " 8   UsageBand                 73670 non-null   category\n",
            " 9   fiModelDesc               412698 non-null  category\n",
            " 10  fiBaseModel               412698 non-null  category\n",
            " 11  fiSecondaryDesc           271971 non-null  category\n",
            " 12  fiModelSeries             58667 non-null   category\n",
            " 13  fiModelDescriptor         74816 non-null   category\n",
            " 14  ProductSize               196093 non-null  category\n",
            " 15  fiProductClassDesc        412698 non-null  category\n",
            " 16  state                     412698 non-null  category\n",
            " 17  ProductGroup              412698 non-null  category\n",
            " 18  ProductGroupDesc          412698 non-null  category\n",
            " 19  Drive_System              107087 non-null  category\n",
            " 20  Enclosure                 412364 non-null  category\n",
            " 21  Forks                     197715 non-null  category\n",
            " 22  Pad_Type                  81096 non-null   category\n",
            " 23  Ride_Control              152728 non-null  category\n",
            " 24  Stick                     81096 non-null   category\n",
            " 25  Transmission              188007 non-null  category\n",
            " 26  Turbocharged              81096 non-null   category\n",
            " 27  Blade_Extension           25983 non-null   category\n",
            " 28  Blade_Width               25983 non-null   category\n",
            " 29  Enclosure_Type            25983 non-null   category\n",
            " 30  Engine_Horsepower         25983 non-null   category\n",
            " 31  Hydraulics                330133 non-null  category\n",
            " 32  Pushblock                 25983 non-null   category\n",
            " 33  Ripper                    106945 non-null  category\n",
            " 34  Scarifier                 25994 non-null   category\n",
            " 35  Tip_Control               25983 non-null   category\n",
            " 36  Tire_Size                 97638 non-null   category\n",
            " 37  Coupler                   220679 non-null  category\n",
            " 38  Coupler_System            44974 non-null   category\n",
            " 39  Grouser_Tracks            44875 non-null   category\n",
            " 40  Hydraulics_Flow           44875 non-null   category\n",
            " 41  Track_Type                102193 non-null  category\n",
            " 42  Undercarriage_Pad_Width   102916 non-null  category\n",
            " 43  Stick_Length              102261 non-null  category\n",
            " 44  Thumb                     102332 non-null  category\n",
            " 45  Pattern_Changer           102261 non-null  category\n",
            " 46  Grouser_Type              102193 non-null  category\n",
            " 47  Backhoe_Mounting          80712 non-null   category\n",
            " 48  Blade_Type                81875 non-null   category\n",
            " 49  Travel_Controls           81877 non-null   category\n",
            " 50  Differential_Type         71564 non-null   category\n",
            " 51  Steering_Controls         71522 non-null   category\n",
            " 52  saleYear                  412698 non-null  int64   \n",
            " 53  saleMonth                 412698 non-null  int64   \n",
            " 54  saleDay                   412698 non-null  int64   \n",
            " 55  saleDayOfWeek             412698 non-null  int64   \n",
            " 56  saleDayOfYear             412698 non-null  int64   \n",
            "dtypes: category(44), float64(3), int64(10)\n",
            "memory usage: 63.2 MB\n"
          ]
        }
      ],
      "source": [
        "df_temp.info()"
      ]
    },
    {
      "cell_type": "markdown",
      "id": "824d20bc",
      "metadata": {
        "id": "824d20bc"
      },
      "source": [
        "## Save Preprocessed Data"
      ]
    },
    {
      "cell_type": "code",
      "execution_count": null,
      "id": "ba2768a2",
      "metadata": {
        "id": "ba2768a2"
      },
      "outputs": [],
      "source": [
        "df_temp.to_csv(\"data/bluebook-for-bulldozers/tran.tmp.csv\",\n",
        "              index=False)"
      ]
    },
    {
      "cell_type": "markdown",
      "id": "6f05c8c6",
      "metadata": {
        "id": "6f05c8c6"
      },
      "source": [
        "## Fill Missing Values\n",
        "### Fill  numerical missing values"
      ]
    },
    {
      "cell_type": "code",
      "execution_count": null,
      "id": "c9ebbdbe",
      "metadata": {
        "id": "c9ebbdbe"
      },
      "outputs": [],
      "source": [
        "for label,value in df_temp.items():\n",
        "    if(pd.api.types.is_numeric_dtype(value)):\n",
        "        if pd.isnull(value).sum():\n",
        "            df_temp[label+\"_is_missing\"]=pd.isnull(value)\n",
        "            df_temp[label]=value.fillna(value.median())\n",
        "        "
      ]
    },
    {
      "cell_type": "code",
      "execution_count": null,
      "id": "f68021ce",
      "metadata": {
        "id": "f68021ce",
        "outputId": "c175708c-79dc-4d73-e608-39f38c1939fe"
      },
      "outputs": [
        {
          "data": {
            "text/plain": [
              "SalesID                                     0\n",
              "SalePrice                                   0\n",
              "MachineID                                   0\n",
              "ModelID                                     0\n",
              "datasource                                  0\n",
              "auctioneerID                                0\n",
              "YearMade                                    0\n",
              "MachineHoursCurrentMeter                    0\n",
              "UsageBand                              339028\n",
              "fiModelDesc                                 0\n",
              "fiBaseModel                                 0\n",
              "fiSecondaryDesc                        140727\n",
              "fiModelSeries                          354031\n",
              "fiModelDescriptor                      337882\n",
              "ProductSize                            216605\n",
              "fiProductClassDesc                          0\n",
              "state                                       0\n",
              "ProductGroup                                0\n",
              "ProductGroupDesc                            0\n",
              "Drive_System                           305611\n",
              "Enclosure                                 334\n",
              "Forks                                  214983\n",
              "Pad_Type                               331602\n",
              "Ride_Control                           259970\n",
              "Stick                                  331602\n",
              "Transmission                           224691\n",
              "Turbocharged                           331602\n",
              "Blade_Extension                        386715\n",
              "Blade_Width                            386715\n",
              "Enclosure_Type                         386715\n",
              "Engine_Horsepower                      386715\n",
              "Hydraulics                              82565\n",
              "Pushblock                              386715\n",
              "Ripper                                 305753\n",
              "Scarifier                              386704\n",
              "Tip_Control                            386715\n",
              "Tire_Size                              315060\n",
              "Coupler                                192019\n",
              "Coupler_System                         367724\n",
              "Grouser_Tracks                         367823\n",
              "Hydraulics_Flow                        367823\n",
              "Track_Type                             310505\n",
              "Undercarriage_Pad_Width                309782\n",
              "Stick_Length                           310437\n",
              "Thumb                                  310366\n",
              "Pattern_Changer                        310437\n",
              "Grouser_Type                           310505\n",
              "Backhoe_Mounting                       331986\n",
              "Blade_Type                             330823\n",
              "Travel_Controls                        330821\n",
              "Differential_Type                      341134\n",
              "Steering_Controls                      341176\n",
              "saleYear                                    0\n",
              "saleMonth                                   0\n",
              "saleDay                                     0\n",
              "saleDayOfWeek                               0\n",
              "saleDayOfYear                               0\n",
              "auctioneerID_is_missing                     0\n",
              "MachineHoursCurrentMeter_is_missing         0\n",
              "dtype: int64"
            ]
          },
          "execution_count": 105,
          "metadata": {},
          "output_type": "execute_result"
        }
      ],
      "source": [
        "df_temp.isna().sum()"
      ]
    },
    {
      "cell_type": "markdown",
      "id": "0d0a6d65",
      "metadata": {
        "id": "0d0a6d65"
      },
      "source": [
        "## Fill and turn Categorical value into numerical"
      ]
    },
    {
      "cell_type": "code",
      "execution_count": null,
      "id": "775e30b9",
      "metadata": {
        "id": "775e30b9"
      },
      "outputs": [],
      "source": [
        "for label,value in df_temp.items():\n",
        "    if not pd.api.types.is_numeric_dtype(value):\n",
        "        df_temp[label+\"_is_missing\"]=pd.isnull(value)\n",
        "        ## turn categories into number and add +1 --> for null its categorical code will be -1\n",
        "        df_temp[label]=pd.Categorical(value).codes +1"
      ]
    },
    {
      "cell_type": "code",
      "execution_count": null,
      "id": "153c7ae1",
      "metadata": {
        "id": "153c7ae1",
        "outputId": "c6404ef3-4920-404a-9cb2-5509d6a50c4e"
      },
      "outputs": [
        {
          "data": {
            "text/plain": [
              "SalesID                         0\n",
              "SalePrice                       0\n",
              "MachineID                       0\n",
              "ModelID                         0\n",
              "datasource                      0\n",
              "                               ..\n",
              "Backhoe_Mounting_is_missing     0\n",
              "Blade_Type_is_missing           0\n",
              "Travel_Controls_is_missing      0\n",
              "Differential_Type_is_missing    0\n",
              "Steering_Controls_is_missing    0\n",
              "Length: 103, dtype: int64"
            ]
          },
          "execution_count": 107,
          "metadata": {},
          "output_type": "execute_result"
        }
      ],
      "source": [
        "df_temp.isna().sum()"
      ]
    },
    {
      "cell_type": "markdown",
      "id": "1614c2a2",
      "metadata": {
        "id": "1614c2a2"
      },
      "source": [
        "## Splitting Data into Train/Validation sets"
      ]
    },
    {
      "cell_type": "code",
      "execution_count": null,
      "id": "cf8c8aaf",
      "metadata": {
        "id": "cf8c8aaf",
        "outputId": "2f0f2254-9ce1-4c30-a9f5-6d8ea4b7f6d8"
      },
      "outputs": [
        {
          "data": {
            "text/plain": [
              "(11573, 401125)"
            ]
          },
          "execution_count": 108,
          "metadata": {},
          "output_type": "execute_result"
        }
      ],
      "source": [
        "df_val=df_temp[df_temp.saleYear == 2012]\n",
        "df_train=df_temp[df_temp.saleYear != 2012]\n",
        "\n",
        "len(df_val),len(df_train)\n"
      ]
    },
    {
      "cell_type": "code",
      "execution_count": null,
      "id": "59c1728a",
      "metadata": {
        "id": "59c1728a",
        "outputId": "e43f8bf3-c37f-4b5c-88c0-77a584f5e38f"
      },
      "outputs": [
        {
          "data": {
            "text/plain": [
              "((401125, 102), (401125,), (11573, 102), (11573,))"
            ]
          },
          "execution_count": 120,
          "metadata": {},
          "output_type": "execute_result"
        }
      ],
      "source": [
        "# Split data into X & y\n",
        "X_train,y_train=df_train.drop(\"SalePrice\",axis=1),df_train[\"SalePrice\"]\n",
        "X_val,y_val=df_val.drop(\"SalePrice\",axis=1),df_val[\"SalePrice\"]\n",
        "\n",
        "X_train.shape,y_train.shape,X_val.shape,y_val.shape"
      ]
    },
    {
      "cell_type": "code",
      "execution_count": null,
      "id": "53a41904",
      "metadata": {
        "id": "53a41904",
        "outputId": "be2befff-256f-4f7d-eb23-ad8052cbcd05"
      },
      "outputs": [
        {
          "data": {
            "text/plain": [
              "205615     9500.0\n",
              "274835    14000.0\n",
              "141296    50000.0\n",
              "212552    16000.0\n",
              "62755     22000.0\n",
              "           ...   \n",
              "393098    29000.0\n",
              "400217    11000.0\n",
              "400302    11000.0\n",
              "400393    18000.0\n",
              "393123    13500.0\n",
              "Name: SalePrice, Length: 401125, dtype: float64"
            ]
          },
          "execution_count": 121,
          "metadata": {},
          "output_type": "execute_result"
        }
      ],
      "source": [
        "y_train"
      ]
    },
    {
      "cell_type": "markdown",
      "id": "c1999fd4",
      "metadata": {
        "id": "c1999fd4"
      },
      "source": [
        "### Building an Evaluation function"
      ]
    },
    {
      "cell_type": "code",
      "execution_count": null,
      "id": "ae502716",
      "metadata": {
        "id": "ae502716"
      },
      "outputs": [],
      "source": [
        "from sklearn.metrics import r2_score, mean_squared_log_error,mean_absolute_error\n",
        "\n",
        "# function to evaluate model for root_mean_squared_log_error\n",
        "def RMSLE(y_test,y_preds):\n",
        "    return np.sqrt(mean_squared_log_error(y_test,y_preds))    \n",
        "\n",
        "# function to evaluate model\n",
        "def show_score(model):\n",
        "    train_preds=model.predict(X_train)\n",
        "    val_preds=model.predict(X_val)\n",
        "    scores={\"Training MAE\":mean_absolute_error(y_train,train_preds),\n",
        "           \"Valid MAE\":mean_absolute_error(y_val,val_preds),\n",
        "           \"Taining RMLSE\":RMSLE(y_train,train_preds),\n",
        "           \"Valid RMSLE\":RMSLE(y_val,val_preds),\n",
        "           \"Taining R^2\":r2_score(y_train,train_preds),\n",
        "           \"Valid R^2\":r2_score(y_val,val_preds)}\n",
        "    return scores\n"
      ]
    },
    {
      "cell_type": "markdown",
      "id": "1b2221ea",
      "metadata": {
        "id": "1b2221ea"
      },
      "source": [
        "## Modelling"
      ]
    },
    {
      "cell_type": "code",
      "execution_count": null,
      "id": "3771d1d5",
      "metadata": {
        "id": "3771d1d5",
        "outputId": "bcaa51b7-f0c0-4ef2-a2e4-b2f3eff6ed17"
      },
      "outputs": [
        {
          "data": {
            "text/html": [
              "<style>#sk-container-id-1 {color: black;background-color: white;}#sk-container-id-1 pre{padding: 0;}#sk-container-id-1 div.sk-toggleable {background-color: white;}#sk-container-id-1 label.sk-toggleable__label {cursor: pointer;display: block;width: 100%;margin-bottom: 0;padding: 0.3em;box-sizing: border-box;text-align: center;}#sk-container-id-1 label.sk-toggleable__label-arrow:before {content: \"▸\";float: left;margin-right: 0.25em;color: #696969;}#sk-container-id-1 label.sk-toggleable__label-arrow:hover:before {color: black;}#sk-container-id-1 div.sk-estimator:hover label.sk-toggleable__label-arrow:before {color: black;}#sk-container-id-1 div.sk-toggleable__content {max-height: 0;max-width: 0;overflow: hidden;text-align: left;background-color: #f0f8ff;}#sk-container-id-1 div.sk-toggleable__content pre {margin: 0.2em;color: black;border-radius: 0.25em;background-color: #f0f8ff;}#sk-container-id-1 input.sk-toggleable__control:checked~div.sk-toggleable__content {max-height: 200px;max-width: 100%;overflow: auto;}#sk-container-id-1 input.sk-toggleable__control:checked~label.sk-toggleable__label-arrow:before {content: \"▾\";}#sk-container-id-1 div.sk-estimator input.sk-toggleable__control:checked~label.sk-toggleable__label {background-color: #d4ebff;}#sk-container-id-1 div.sk-label input.sk-toggleable__control:checked~label.sk-toggleable__label {background-color: #d4ebff;}#sk-container-id-1 input.sk-hidden--visually {border: 0;clip: rect(1px 1px 1px 1px);clip: rect(1px, 1px, 1px, 1px);height: 1px;margin: -1px;overflow: hidden;padding: 0;position: absolute;width: 1px;}#sk-container-id-1 div.sk-estimator {font-family: monospace;background-color: #f0f8ff;border: 1px dotted black;border-radius: 0.25em;box-sizing: border-box;margin-bottom: 0.5em;}#sk-container-id-1 div.sk-estimator:hover {background-color: #d4ebff;}#sk-container-id-1 div.sk-parallel-item::after {content: \"\";width: 100%;border-bottom: 1px solid gray;flex-grow: 1;}#sk-container-id-1 div.sk-label:hover label.sk-toggleable__label {background-color: #d4ebff;}#sk-container-id-1 div.sk-serial::before {content: \"\";position: absolute;border-left: 1px solid gray;box-sizing: border-box;top: 0;bottom: 0;left: 50%;z-index: 0;}#sk-container-id-1 div.sk-serial {display: flex;flex-direction: column;align-items: center;background-color: white;padding-right: 0.2em;padding-left: 0.2em;position: relative;}#sk-container-id-1 div.sk-item {position: relative;z-index: 1;}#sk-container-id-1 div.sk-parallel {display: flex;align-items: stretch;justify-content: center;background-color: white;position: relative;}#sk-container-id-1 div.sk-item::before, #sk-container-id-1 div.sk-parallel-item::before {content: \"\";position: absolute;border-left: 1px solid gray;box-sizing: border-box;top: 0;bottom: 0;left: 50%;z-index: -1;}#sk-container-id-1 div.sk-parallel-item {display: flex;flex-direction: column;z-index: 1;position: relative;background-color: white;}#sk-container-id-1 div.sk-parallel-item:first-child::after {align-self: flex-end;width: 50%;}#sk-container-id-1 div.sk-parallel-item:last-child::after {align-self: flex-start;width: 50%;}#sk-container-id-1 div.sk-parallel-item:only-child::after {width: 0;}#sk-container-id-1 div.sk-dashed-wrapped {border: 1px dashed gray;margin: 0 0.4em 0.5em 0.4em;box-sizing: border-box;padding-bottom: 0.4em;background-color: white;}#sk-container-id-1 div.sk-label label {font-family: monospace;font-weight: bold;display: inline-block;line-height: 1.2em;}#sk-container-id-1 div.sk-label-container {text-align: center;}#sk-container-id-1 div.sk-container {/* jupyter's `normalize.less` sets `[hidden] { display: none; }` but bootstrap.min.css set `[hidden] { display: none !important; }` so we also need the `!important` here to be able to override the default hidden behavior on the sphinx rendered scikit-learn.org. See: https://github.com/scikit-learn/scikit-learn/issues/21755 */display: inline-block !important;position: relative;}#sk-container-id-1 div.sk-text-repr-fallback {display: none;}</style><div id=\"sk-container-id-1\" class=\"sk-top-container\"><div class=\"sk-text-repr-fallback\"><pre>RandomForestRegressor(max_samples=10000, n_jobs=-1, random_state=42)</pre><b>In a Jupyter environment, please rerun this cell to show the HTML representation or trust the notebook. <br />On GitHub, the HTML representation is unable to render, please try loading this page with nbviewer.org.</b></div><div class=\"sk-container\" hidden><div class=\"sk-item\"><div class=\"sk-estimator sk-toggleable\"><input class=\"sk-toggleable__control sk-hidden--visually\" id=\"sk-estimator-id-1\" type=\"checkbox\" checked><label for=\"sk-estimator-id-1\" class=\"sk-toggleable__label sk-toggleable__label-arrow\">RandomForestRegressor</label><div class=\"sk-toggleable__content\"><pre>RandomForestRegressor(max_samples=10000, n_jobs=-1, random_state=42)</pre></div></div></div></div></div>"
            ],
            "text/plain": [
              "RandomForestRegressor(max_samples=10000, n_jobs=-1, random_state=42)"
            ]
          },
          "execution_count": 114,
          "metadata": {},
          "output_type": "execute_result"
        }
      ],
      "source": [
        "from sklearn.ensemble import RandomForestRegressor\n",
        "model=RandomForestRegressor(n_jobs=-1,\n",
        "                          random_state=42,\n",
        "                           max_samples=10000)\n",
        "model.fit(X_train,y_train)\n"
      ]
    },
    {
      "cell_type": "code",
      "execution_count": null,
      "id": "ed8b51df",
      "metadata": {
        "id": "ed8b51df",
        "outputId": "03abbdef-9f27-4d79-bef3-d9e6d20a68ab"
      },
      "outputs": [
        {
          "data": {
            "text/plain": [
              "{'Training MAE': 5561.2988092240585,\n",
              " 'Valid MAE': 7177.26365505919,\n",
              " 'Taining RMLSE': 0.257745378256977,\n",
              " 'Valid RMSLE': 0.29362638671089003,\n",
              " 'Taining R^2': 0.8606658995199189,\n",
              " 'Valid R^2': 0.8320374995090507}"
            ]
          },
          "execution_count": 115,
          "metadata": {},
          "output_type": "execute_result"
        }
      ],
      "source": [
        "show_score(model)"
      ]
    },
    {
      "cell_type": "markdown",
      "id": "1b633e3f",
      "metadata": {
        "id": "1b633e3f"
      },
      "source": [
        "### Hyperparameter tunning with randomizedSearchCV"
      ]
    },
    {
      "cell_type": "code",
      "execution_count": null,
      "id": "8c1dda63",
      "metadata": {
        "id": "8c1dda63",
        "outputId": "fc487b13-9dac-4ee1-bc59-148010499898"
      },
      "outputs": [
        {
          "name": "stdout",
          "output_type": "stream",
          "text": [
            "Fitting 5 folds for each of 2 candidates, totalling 10 fits\n"
          ]
        },
        {
          "data": {
            "text/html": [
              "<style>#sk-container-id-2 {color: black;background-color: white;}#sk-container-id-2 pre{padding: 0;}#sk-container-id-2 div.sk-toggleable {background-color: white;}#sk-container-id-2 label.sk-toggleable__label {cursor: pointer;display: block;width: 100%;margin-bottom: 0;padding: 0.3em;box-sizing: border-box;text-align: center;}#sk-container-id-2 label.sk-toggleable__label-arrow:before {content: \"▸\";float: left;margin-right: 0.25em;color: #696969;}#sk-container-id-2 label.sk-toggleable__label-arrow:hover:before {color: black;}#sk-container-id-2 div.sk-estimator:hover label.sk-toggleable__label-arrow:before {color: black;}#sk-container-id-2 div.sk-toggleable__content {max-height: 0;max-width: 0;overflow: hidden;text-align: left;background-color: #f0f8ff;}#sk-container-id-2 div.sk-toggleable__content pre {margin: 0.2em;color: black;border-radius: 0.25em;background-color: #f0f8ff;}#sk-container-id-2 input.sk-toggleable__control:checked~div.sk-toggleable__content {max-height: 200px;max-width: 100%;overflow: auto;}#sk-container-id-2 input.sk-toggleable__control:checked~label.sk-toggleable__label-arrow:before {content: \"▾\";}#sk-container-id-2 div.sk-estimator input.sk-toggleable__control:checked~label.sk-toggleable__label {background-color: #d4ebff;}#sk-container-id-2 div.sk-label input.sk-toggleable__control:checked~label.sk-toggleable__label {background-color: #d4ebff;}#sk-container-id-2 input.sk-hidden--visually {border: 0;clip: rect(1px 1px 1px 1px);clip: rect(1px, 1px, 1px, 1px);height: 1px;margin: -1px;overflow: hidden;padding: 0;position: absolute;width: 1px;}#sk-container-id-2 div.sk-estimator {font-family: monospace;background-color: #f0f8ff;border: 1px dotted black;border-radius: 0.25em;box-sizing: border-box;margin-bottom: 0.5em;}#sk-container-id-2 div.sk-estimator:hover {background-color: #d4ebff;}#sk-container-id-2 div.sk-parallel-item::after {content: \"\";width: 100%;border-bottom: 1px solid gray;flex-grow: 1;}#sk-container-id-2 div.sk-label:hover label.sk-toggleable__label {background-color: #d4ebff;}#sk-container-id-2 div.sk-serial::before {content: \"\";position: absolute;border-left: 1px solid gray;box-sizing: border-box;top: 0;bottom: 0;left: 50%;z-index: 0;}#sk-container-id-2 div.sk-serial {display: flex;flex-direction: column;align-items: center;background-color: white;padding-right: 0.2em;padding-left: 0.2em;position: relative;}#sk-container-id-2 div.sk-item {position: relative;z-index: 1;}#sk-container-id-2 div.sk-parallel {display: flex;align-items: stretch;justify-content: center;background-color: white;position: relative;}#sk-container-id-2 div.sk-item::before, #sk-container-id-2 div.sk-parallel-item::before {content: \"\";position: absolute;border-left: 1px solid gray;box-sizing: border-box;top: 0;bottom: 0;left: 50%;z-index: -1;}#sk-container-id-2 div.sk-parallel-item {display: flex;flex-direction: column;z-index: 1;position: relative;background-color: white;}#sk-container-id-2 div.sk-parallel-item:first-child::after {align-self: flex-end;width: 50%;}#sk-container-id-2 div.sk-parallel-item:last-child::after {align-self: flex-start;width: 50%;}#sk-container-id-2 div.sk-parallel-item:only-child::after {width: 0;}#sk-container-id-2 div.sk-dashed-wrapped {border: 1px dashed gray;margin: 0 0.4em 0.5em 0.4em;box-sizing: border-box;padding-bottom: 0.4em;background-color: white;}#sk-container-id-2 div.sk-label label {font-family: monospace;font-weight: bold;display: inline-block;line-height: 1.2em;}#sk-container-id-2 div.sk-label-container {text-align: center;}#sk-container-id-2 div.sk-container {/* jupyter's `normalize.less` sets `[hidden] { display: none; }` but bootstrap.min.css set `[hidden] { display: none !important; }` so we also need the `!important` here to be able to override the default hidden behavior on the sphinx rendered scikit-learn.org. See: https://github.com/scikit-learn/scikit-learn/issues/21755 */display: inline-block !important;position: relative;}#sk-container-id-2 div.sk-text-repr-fallback {display: none;}</style><div id=\"sk-container-id-2\" class=\"sk-top-container\"><div class=\"sk-text-repr-fallback\"><pre>RandomizedSearchCV(cv=5,\n",
              "                   estimator=RandomForestRegressor(n_jobs=-1, random_state=42),\n",
              "                   n_iter=2,\n",
              "                   param_distributions={&#x27;max_depth&#x27;: [None, 3, 5, 10],\n",
              "                                        &#x27;max_features&#x27;: [0.5, 1, &#x27;sqrt&#x27;,\n",
              "                                                         &#x27;auto&#x27;],\n",
              "                                        &#x27;max_samples&#x27;: [10000],\n",
              "                                        &#x27;min_samples_leaf&#x27;: array([ 1,  3,  5,  7,  9, 11, 13, 15, 17, 19]),\n",
              "                                        &#x27;min_samples_split&#x27;: array([ 2,  4,  6,  8, 10, 12, 14, 16, 18]),\n",
              "                                        &#x27;n_estimators&#x27;: array([10, 20, 30, 40, 50, 60, 70, 80, 90])},\n",
              "                   verbose=True)</pre><b>In a Jupyter environment, please rerun this cell to show the HTML representation or trust the notebook. <br />On GitHub, the HTML representation is unable to render, please try loading this page with nbviewer.org.</b></div><div class=\"sk-container\" hidden><div class=\"sk-item sk-dashed-wrapped\"><div class=\"sk-label-container\"><div class=\"sk-label sk-toggleable\"><input class=\"sk-toggleable__control sk-hidden--visually\" id=\"sk-estimator-id-2\" type=\"checkbox\" ><label for=\"sk-estimator-id-2\" class=\"sk-toggleable__label sk-toggleable__label-arrow\">RandomizedSearchCV</label><div class=\"sk-toggleable__content\"><pre>RandomizedSearchCV(cv=5,\n",
              "                   estimator=RandomForestRegressor(n_jobs=-1, random_state=42),\n",
              "                   n_iter=2,\n",
              "                   param_distributions={&#x27;max_depth&#x27;: [None, 3, 5, 10],\n",
              "                                        &#x27;max_features&#x27;: [0.5, 1, &#x27;sqrt&#x27;,\n",
              "                                                         &#x27;auto&#x27;],\n",
              "                                        &#x27;max_samples&#x27;: [10000],\n",
              "                                        &#x27;min_samples_leaf&#x27;: array([ 1,  3,  5,  7,  9, 11, 13, 15, 17, 19]),\n",
              "                                        &#x27;min_samples_split&#x27;: array([ 2,  4,  6,  8, 10, 12, 14, 16, 18]),\n",
              "                                        &#x27;n_estimators&#x27;: array([10, 20, 30, 40, 50, 60, 70, 80, 90])},\n",
              "                   verbose=True)</pre></div></div></div><div class=\"sk-parallel\"><div class=\"sk-parallel-item\"><div class=\"sk-item\"><div class=\"sk-label-container\"><div class=\"sk-label sk-toggleable\"><input class=\"sk-toggleable__control sk-hidden--visually\" id=\"sk-estimator-id-3\" type=\"checkbox\" ><label for=\"sk-estimator-id-3\" class=\"sk-toggleable__label sk-toggleable__label-arrow\">estimator: RandomForestRegressor</label><div class=\"sk-toggleable__content\"><pre>RandomForestRegressor(n_jobs=-1, random_state=42)</pre></div></div></div><div class=\"sk-serial\"><div class=\"sk-item\"><div class=\"sk-estimator sk-toggleable\"><input class=\"sk-toggleable__control sk-hidden--visually\" id=\"sk-estimator-id-4\" type=\"checkbox\" ><label for=\"sk-estimator-id-4\" class=\"sk-toggleable__label sk-toggleable__label-arrow\">RandomForestRegressor</label><div class=\"sk-toggleable__content\"><pre>RandomForestRegressor(n_jobs=-1, random_state=42)</pre></div></div></div></div></div></div></div></div></div></div>"
            ],
            "text/plain": [
              "RandomizedSearchCV(cv=5,\n",
              "                   estimator=RandomForestRegressor(n_jobs=-1, random_state=42),\n",
              "                   n_iter=2,\n",
              "                   param_distributions={'max_depth': [None, 3, 5, 10],\n",
              "                                        'max_features': [0.5, 1, 'sqrt',\n",
              "                                                         'auto'],\n",
              "                                        'max_samples': [10000],\n",
              "                                        'min_samples_leaf': array([ 1,  3,  5,  7,  9, 11, 13, 15, 17, 19]),\n",
              "                                        'min_samples_split': array([ 2,  4,  6,  8, 10, 12, 14, 16, 18]),\n",
              "                                        'n_estimators': array([10, 20, 30, 40, 50, 60, 70, 80, 90])},\n",
              "                   verbose=True)"
            ]
          },
          "execution_count": 124,
          "metadata": {},
          "output_type": "execute_result"
        }
      ],
      "source": [
        "from sklearn.model_selection import RandomizedSearchCV\n",
        "\n",
        "rg_grid={\"n_estimators\":np.arange(10,100,10),\n",
        "        \"max_depth\":[None,3,5,10],\n",
        "        \"min_samples_split\":np.arange(2,20,2),\n",
        "        \"min_samples_leaf\":np.arange(1,20,2),\n",
        "        \"max_features\":[0.5,1,\"sqrt\",\"auto\"],\n",
        "        \"max_samples\":[10000]}\n",
        "\n",
        "\n",
        "rs_model=RandomizedSearchCV(RandomForestRegressor(n_jobs=-1,\n",
        "                               random_state=42),\n",
        "                               param_distributions=rg_grid,\n",
        "                               n_iter=2,\n",
        "                               cv=5,\n",
        "                               verbose=True)\n",
        "\n",
        "rs_model.fit(X_train,y_train)"
      ]
    },
    {
      "cell_type": "code",
      "execution_count": null,
      "id": "5de84cce",
      "metadata": {
        "id": "5de84cce",
        "outputId": "33898106-a3cc-45cd-c227-8d5e676139b7"
      },
      "outputs": [
        {
          "data": {
            "text/plain": [
              "0.7762614418803269"
            ]
          },
          "execution_count": 145,
          "metadata": {},
          "output_type": "execute_result"
        }
      ],
      "source": [
        "rs_model.score(X_val,y_val)"
      ]
    },
    {
      "cell_type": "code",
      "execution_count": null,
      "id": "439dadca",
      "metadata": {
        "id": "439dadca",
        "outputId": "1363f122-c979-4fca-986b-97edb07fd4d9"
      },
      "outputs": [
        {
          "data": {
            "text/plain": [
              "{'Training MAE': 7189.480314320231,\n",
              " 'Valid MAE': 8392.363571370568,\n",
              " 'Taining RMLSE': 0.31821159899567003,\n",
              " 'Valid RMSLE': 0.337176207417892,\n",
              " 'Taining R^2': 0.7792115991125736,\n",
              " 'Valid R^2': 0.7762614418803268}"
            ]
          },
          "execution_count": 125,
          "metadata": {},
          "output_type": "execute_result"
        }
      ],
      "source": [
        "show_score(rs_model)"
      ]
    },
    {
      "cell_type": "markdown",
      "id": "8835975c",
      "metadata": {
        "id": "8835975c"
      },
      "source": [
        "### Train Model with best hyperparameters"
      ]
    },
    {
      "cell_type": "code",
      "execution_count": null,
      "id": "d622c8d8",
      "metadata": {
        "id": "d622c8d8",
        "outputId": "81bf656d-803e-4527-f00b-616bc41209f6"
      },
      "outputs": [
        {
          "name": "stdout",
          "output_type": "stream",
          "text": [
            "CPU times: total: 7min 17s\n",
            "Wall time: 2min 18s\n"
          ]
        },
        {
          "data": {
            "text/html": [
              "<style>#sk-container-id-4 {color: black;background-color: white;}#sk-container-id-4 pre{padding: 0;}#sk-container-id-4 div.sk-toggleable {background-color: white;}#sk-container-id-4 label.sk-toggleable__label {cursor: pointer;display: block;width: 100%;margin-bottom: 0;padding: 0.3em;box-sizing: border-box;text-align: center;}#sk-container-id-4 label.sk-toggleable__label-arrow:before {content: \"▸\";float: left;margin-right: 0.25em;color: #696969;}#sk-container-id-4 label.sk-toggleable__label-arrow:hover:before {color: black;}#sk-container-id-4 div.sk-estimator:hover label.sk-toggleable__label-arrow:before {color: black;}#sk-container-id-4 div.sk-toggleable__content {max-height: 0;max-width: 0;overflow: hidden;text-align: left;background-color: #f0f8ff;}#sk-container-id-4 div.sk-toggleable__content pre {margin: 0.2em;color: black;border-radius: 0.25em;background-color: #f0f8ff;}#sk-container-id-4 input.sk-toggleable__control:checked~div.sk-toggleable__content {max-height: 200px;max-width: 100%;overflow: auto;}#sk-container-id-4 input.sk-toggleable__control:checked~label.sk-toggleable__label-arrow:before {content: \"▾\";}#sk-container-id-4 div.sk-estimator input.sk-toggleable__control:checked~label.sk-toggleable__label {background-color: #d4ebff;}#sk-container-id-4 div.sk-label input.sk-toggleable__control:checked~label.sk-toggleable__label {background-color: #d4ebff;}#sk-container-id-4 input.sk-hidden--visually {border: 0;clip: rect(1px 1px 1px 1px);clip: rect(1px, 1px, 1px, 1px);height: 1px;margin: -1px;overflow: hidden;padding: 0;position: absolute;width: 1px;}#sk-container-id-4 div.sk-estimator {font-family: monospace;background-color: #f0f8ff;border: 1px dotted black;border-radius: 0.25em;box-sizing: border-box;margin-bottom: 0.5em;}#sk-container-id-4 div.sk-estimator:hover {background-color: #d4ebff;}#sk-container-id-4 div.sk-parallel-item::after {content: \"\";width: 100%;border-bottom: 1px solid gray;flex-grow: 1;}#sk-container-id-4 div.sk-label:hover label.sk-toggleable__label {background-color: #d4ebff;}#sk-container-id-4 div.sk-serial::before {content: \"\";position: absolute;border-left: 1px solid gray;box-sizing: border-box;top: 0;bottom: 0;left: 50%;z-index: 0;}#sk-container-id-4 div.sk-serial {display: flex;flex-direction: column;align-items: center;background-color: white;padding-right: 0.2em;padding-left: 0.2em;position: relative;}#sk-container-id-4 div.sk-item {position: relative;z-index: 1;}#sk-container-id-4 div.sk-parallel {display: flex;align-items: stretch;justify-content: center;background-color: white;position: relative;}#sk-container-id-4 div.sk-item::before, #sk-container-id-4 div.sk-parallel-item::before {content: \"\";position: absolute;border-left: 1px solid gray;box-sizing: border-box;top: 0;bottom: 0;left: 50%;z-index: -1;}#sk-container-id-4 div.sk-parallel-item {display: flex;flex-direction: column;z-index: 1;position: relative;background-color: white;}#sk-container-id-4 div.sk-parallel-item:first-child::after {align-self: flex-end;width: 50%;}#sk-container-id-4 div.sk-parallel-item:last-child::after {align-self: flex-start;width: 50%;}#sk-container-id-4 div.sk-parallel-item:only-child::after {width: 0;}#sk-container-id-4 div.sk-dashed-wrapped {border: 1px dashed gray;margin: 0 0.4em 0.5em 0.4em;box-sizing: border-box;padding-bottom: 0.4em;background-color: white;}#sk-container-id-4 div.sk-label label {font-family: monospace;font-weight: bold;display: inline-block;line-height: 1.2em;}#sk-container-id-4 div.sk-label-container {text-align: center;}#sk-container-id-4 div.sk-container {/* jupyter's `normalize.less` sets `[hidden] { display: none; }` but bootstrap.min.css set `[hidden] { display: none !important; }` so we also need the `!important` here to be able to override the default hidden behavior on the sphinx rendered scikit-learn.org. See: https://github.com/scikit-learn/scikit-learn/issues/21755 */display: inline-block !important;position: relative;}#sk-container-id-4 div.sk-text-repr-fallback {display: none;}</style><div id=\"sk-container-id-4\" class=\"sk-top-container\"><div class=\"sk-text-repr-fallback\"><pre>RandomForestRegressor(max_features=0.5, min_samples_split=4, n_estimators=42,\n",
              "                      n_jobs=-1, random_state=42)</pre><b>In a Jupyter environment, please rerun this cell to show the HTML representation or trust the notebook. <br />On GitHub, the HTML representation is unable to render, please try loading this page with nbviewer.org.</b></div><div class=\"sk-container\" hidden><div class=\"sk-item\"><div class=\"sk-estimator sk-toggleable\"><input class=\"sk-toggleable__control sk-hidden--visually\" id=\"sk-estimator-id-6\" type=\"checkbox\" checked><label for=\"sk-estimator-id-6\" class=\"sk-toggleable__label sk-toggleable__label-arrow\">RandomForestRegressor</label><div class=\"sk-toggleable__content\"><pre>RandomForestRegressor(max_features=0.5, min_samples_split=4, n_estimators=42,\n",
              "                      n_jobs=-1, random_state=42)</pre></div></div></div></div></div>"
            ],
            "text/plain": [
              "RandomForestRegressor(max_features=0.5, min_samples_split=4, n_estimators=42,\n",
              "                      n_jobs=-1, random_state=42)"
            ]
          },
          "execution_count": 128,
          "metadata": {},
          "output_type": "execute_result"
        }
      ],
      "source": [
        "%%time\n",
        "\n",
        "f_model=RandomForestRegressor(n_jobs=-1,\n",
        "                               random_state=42,\n",
        "                             n_estimators=42,\n",
        "                             min_samples_leaf=1,\n",
        "                             min_samples_split=4,\n",
        "                             max_features=0.5,\n",
        "                             max_samples=None)\n",
        "f_model.fit(X_train,y_train)"
      ]
    },
    {
      "cell_type": "code",
      "execution_count": null,
      "id": "dc91ef39",
      "metadata": {
        "id": "dc91ef39",
        "outputId": "139b9ff9-9395-4a92-bc35-8af3ba0276a1"
      },
      "outputs": [
        {
          "data": {
            "text/plain": [
              "0.8804739580151623"
            ]
          },
          "execution_count": 144,
          "metadata": {},
          "output_type": "execute_result"
        }
      ],
      "source": [
        "f_model.score(X_val,y_val)"
      ]
    },
    {
      "cell_type": "code",
      "execution_count": null,
      "id": "1f5553bc",
      "metadata": {
        "id": "1f5553bc",
        "outputId": "a9111d4e-4528-4851-f055-33fcb51b593c"
      },
      "outputs": [
        {
          "data": {
            "text/plain": [
              "{'Training MAE': 1838.3559604734528,\n",
              " 'Valid MAE': 5984.230962748217,\n",
              " 'Taining RMLSE': 0.09687899879081595,\n",
              " 'Valid RMSLE': 0.24848381105079584,\n",
              " 'Taining R^2': 0.9828869606267855,\n",
              " 'Valid R^2': 0.8804739580151623}"
            ]
          },
          "execution_count": 129,
          "metadata": {},
          "output_type": "execute_result"
        }
      ],
      "source": [
        "show_score(f_model)"
      ]
    },
    {
      "cell_type": "markdown",
      "id": "5602d357",
      "metadata": {
        "id": "5602d357"
      },
      "source": [
        "## Making Prediction on test data"
      ]
    },
    {
      "cell_type": "code",
      "execution_count": null,
      "id": "d7d52ed2",
      "metadata": {
        "id": "d7d52ed2",
        "outputId": "4f4267a9-fb75-4dc5-98e5-176515202c3c"
      },
      "outputs": [
        {
          "data": {
            "text/html": [
              "<div>\n",
              "<style scoped>\n",
              "    .dataframe tbody tr th:only-of-type {\n",
              "        vertical-align: middle;\n",
              "    }\n",
              "\n",
              "    .dataframe tbody tr th {\n",
              "        vertical-align: top;\n",
              "    }\n",
              "\n",
              "    .dataframe thead th {\n",
              "        text-align: right;\n",
              "    }\n",
              "</style>\n",
              "<table border=\"1\" class=\"dataframe\">\n",
              "  <thead>\n",
              "    <tr style=\"text-align: right;\">\n",
              "      <th></th>\n",
              "      <th>SalesID</th>\n",
              "      <th>MachineID</th>\n",
              "      <th>ModelID</th>\n",
              "      <th>datasource</th>\n",
              "      <th>auctioneerID</th>\n",
              "      <th>YearMade</th>\n",
              "      <th>MachineHoursCurrentMeter</th>\n",
              "      <th>UsageBand</th>\n",
              "      <th>saledate</th>\n",
              "      <th>fiModelDesc</th>\n",
              "      <th>...</th>\n",
              "      <th>Undercarriage_Pad_Width</th>\n",
              "      <th>Stick_Length</th>\n",
              "      <th>Thumb</th>\n",
              "      <th>Pattern_Changer</th>\n",
              "      <th>Grouser_Type</th>\n",
              "      <th>Backhoe_Mounting</th>\n",
              "      <th>Blade_Type</th>\n",
              "      <th>Travel_Controls</th>\n",
              "      <th>Differential_Type</th>\n",
              "      <th>Steering_Controls</th>\n",
              "    </tr>\n",
              "  </thead>\n",
              "  <tbody>\n",
              "    <tr>\n",
              "      <th>0</th>\n",
              "      <td>1227829</td>\n",
              "      <td>1006309</td>\n",
              "      <td>3168</td>\n",
              "      <td>121</td>\n",
              "      <td>3</td>\n",
              "      <td>1999</td>\n",
              "      <td>3688.0</td>\n",
              "      <td>Low</td>\n",
              "      <td>2012-05-03</td>\n",
              "      <td>580G</td>\n",
              "      <td>...</td>\n",
              "      <td>NaN</td>\n",
              "      <td>NaN</td>\n",
              "      <td>NaN</td>\n",
              "      <td>NaN</td>\n",
              "      <td>NaN</td>\n",
              "      <td>NaN</td>\n",
              "      <td>NaN</td>\n",
              "      <td>NaN</td>\n",
              "      <td>NaN</td>\n",
              "      <td>NaN</td>\n",
              "    </tr>\n",
              "    <tr>\n",
              "      <th>1</th>\n",
              "      <td>1227844</td>\n",
              "      <td>1022817</td>\n",
              "      <td>7271</td>\n",
              "      <td>121</td>\n",
              "      <td>3</td>\n",
              "      <td>1000</td>\n",
              "      <td>28555.0</td>\n",
              "      <td>High</td>\n",
              "      <td>2012-05-10</td>\n",
              "      <td>936</td>\n",
              "      <td>...</td>\n",
              "      <td>NaN</td>\n",
              "      <td>NaN</td>\n",
              "      <td>NaN</td>\n",
              "      <td>NaN</td>\n",
              "      <td>NaN</td>\n",
              "      <td>NaN</td>\n",
              "      <td>NaN</td>\n",
              "      <td>NaN</td>\n",
              "      <td>Standard</td>\n",
              "      <td>Conventional</td>\n",
              "    </tr>\n",
              "    <tr>\n",
              "      <th>2</th>\n",
              "      <td>1227847</td>\n",
              "      <td>1031560</td>\n",
              "      <td>22805</td>\n",
              "      <td>121</td>\n",
              "      <td>3</td>\n",
              "      <td>2004</td>\n",
              "      <td>6038.0</td>\n",
              "      <td>Medium</td>\n",
              "      <td>2012-05-10</td>\n",
              "      <td>EC210BLC</td>\n",
              "      <td>...</td>\n",
              "      <td>None or Unspecified</td>\n",
              "      <td>9' 6\"</td>\n",
              "      <td>Manual</td>\n",
              "      <td>None or Unspecified</td>\n",
              "      <td>Double</td>\n",
              "      <td>NaN</td>\n",
              "      <td>NaN</td>\n",
              "      <td>NaN</td>\n",
              "      <td>NaN</td>\n",
              "      <td>NaN</td>\n",
              "    </tr>\n",
              "    <tr>\n",
              "      <th>3</th>\n",
              "      <td>1227848</td>\n",
              "      <td>56204</td>\n",
              "      <td>1269</td>\n",
              "      <td>121</td>\n",
              "      <td>3</td>\n",
              "      <td>2006</td>\n",
              "      <td>8940.0</td>\n",
              "      <td>High</td>\n",
              "      <td>2012-05-10</td>\n",
              "      <td>330CL</td>\n",
              "      <td>...</td>\n",
              "      <td>None or Unspecified</td>\n",
              "      <td>None or Unspecified</td>\n",
              "      <td>Manual</td>\n",
              "      <td>Yes</td>\n",
              "      <td>Triple</td>\n",
              "      <td>NaN</td>\n",
              "      <td>NaN</td>\n",
              "      <td>NaN</td>\n",
              "      <td>NaN</td>\n",
              "      <td>NaN</td>\n",
              "    </tr>\n",
              "    <tr>\n",
              "      <th>4</th>\n",
              "      <td>1227863</td>\n",
              "      <td>1053887</td>\n",
              "      <td>22312</td>\n",
              "      <td>121</td>\n",
              "      <td>3</td>\n",
              "      <td>2005</td>\n",
              "      <td>2286.0</td>\n",
              "      <td>Low</td>\n",
              "      <td>2012-05-10</td>\n",
              "      <td>650K</td>\n",
              "      <td>...</td>\n",
              "      <td>NaN</td>\n",
              "      <td>NaN</td>\n",
              "      <td>NaN</td>\n",
              "      <td>NaN</td>\n",
              "      <td>NaN</td>\n",
              "      <td>None or Unspecified</td>\n",
              "      <td>PAT</td>\n",
              "      <td>None or Unspecified</td>\n",
              "      <td>NaN</td>\n",
              "      <td>NaN</td>\n",
              "    </tr>\n",
              "  </tbody>\n",
              "</table>\n",
              "<p>5 rows × 52 columns</p>\n",
              "</div>"
            ],
            "text/plain": [
              "   SalesID  MachineID  ModelID  datasource  auctioneerID  YearMade  \\\n",
              "0  1227829    1006309     3168         121             3      1999   \n",
              "1  1227844    1022817     7271         121             3      1000   \n",
              "2  1227847    1031560    22805         121             3      2004   \n",
              "3  1227848      56204     1269         121             3      2006   \n",
              "4  1227863    1053887    22312         121             3      2005   \n",
              "\n",
              "   MachineHoursCurrentMeter UsageBand   saledate fiModelDesc  ...  \\\n",
              "0                    3688.0       Low 2012-05-03        580G  ...   \n",
              "1                   28555.0      High 2012-05-10         936  ...   \n",
              "2                    6038.0    Medium 2012-05-10    EC210BLC  ...   \n",
              "3                    8940.0      High 2012-05-10       330CL  ...   \n",
              "4                    2286.0       Low 2012-05-10        650K  ...   \n",
              "\n",
              "  Undercarriage_Pad_Width         Stick_Length   Thumb      Pattern_Changer  \\\n",
              "0                     NaN                  NaN     NaN                  NaN   \n",
              "1                     NaN                  NaN     NaN                  NaN   \n",
              "2     None or Unspecified                9' 6\"  Manual  None or Unspecified   \n",
              "3     None or Unspecified  None or Unspecified  Manual                  Yes   \n",
              "4                     NaN                  NaN     NaN                  NaN   \n",
              "\n",
              "  Grouser_Type     Backhoe_Mounting Blade_Type      Travel_Controls  \\\n",
              "0          NaN                  NaN        NaN                  NaN   \n",
              "1          NaN                  NaN        NaN                  NaN   \n",
              "2       Double                  NaN        NaN                  NaN   \n",
              "3       Triple                  NaN        NaN                  NaN   \n",
              "4          NaN  None or Unspecified        PAT  None or Unspecified   \n",
              "\n",
              "  Differential_Type Steering_Controls  \n",
              "0               NaN               NaN  \n",
              "1          Standard      Conventional  \n",
              "2               NaN               NaN  \n",
              "3               NaN               NaN  \n",
              "4               NaN               NaN  \n",
              "\n",
              "[5 rows x 52 columns]"
            ]
          },
          "execution_count": 152,
          "metadata": {},
          "output_type": "execute_result"
        }
      ],
      "source": [
        "df_test=pd.read_csv(\"data/bluebook-for-bulldozers/Test.csv\",\n",
        "                   low_memory=False,\n",
        "                   parse_dates=[\"saledate\"])\n",
        "df_test.head()"
      ]
    },
    {
      "cell_type": "markdown",
      "id": "fb3cda1a",
      "metadata": {
        "id": "fb3cda1a"
      },
      "source": [
        "### Prepocessing the test data"
      ]
    },
    {
      "cell_type": "code",
      "execution_count": null,
      "id": "43216eb6",
      "metadata": {
        "id": "43216eb6"
      },
      "outputs": [],
      "source": [
        "def preprocess_data(df_temp):\n",
        "    \n",
        "    df_temp[\"saleYear\"]=df_temp[\"saledate\"].dt.year\n",
        "    df_temp[\"saleMonth\"]=df_temp[\"saledate\"].dt.month\n",
        "    df_temp[\"saleDay\"]=df_temp[\"saledate\"].dt.day\n",
        "    df_temp[\"saleDayOfWeek\"]=df_temp[\"saledate\"].dt.dayofweek\n",
        "    df_temp[\"saleDayOfYear\"]=df_temp[\"saledate\"].dt.dayofyear\n",
        "    \n",
        "    df_temp.drop(\"saledate\",axis=1,inplace=True)\n",
        "    \n",
        "        #convert string into categorical  \n",
        "    for label,value in df_temp.items():\n",
        "        if(pd.api.types.is_string_dtype(value)):\n",
        "            df_temp[label]=value.astype(\"category\").cat.as_ordered()\n",
        "    \n",
        "    # fill the numerical missing data with median\n",
        "    for label,value in df_temp.items():\n",
        "        if(pd.api.types.is_numeric_dtype(value)):\n",
        "            if pd.isnull(value).sum():\n",
        "                df_temp[label+\"_is_missing\"]=pd.isnull(value)\n",
        "                df_temp[label]=value.fillna(value.median())\n",
        "            \n",
        "    # convert categorialinto numerical and fill missing data \n",
        "    for label,value in df_temp.items():\n",
        "        if not pd.api.types.is_numeric_dtype(value):\n",
        "            df_temp[label+\"_is_missing\"]=pd.isnull(value)\n",
        "            ## turn categories into number and add +1 --> for null its categorical code will be -1\n",
        "            df_temp[label]=pd.Categorical(value).codes +1\n",
        "    \n",
        "    return df_temp\n",
        "    \n",
        "    \n",
        "    "
      ]
    },
    {
      "cell_type": "code",
      "execution_count": null,
      "id": "4116b10d",
      "metadata": {
        "id": "4116b10d",
        "outputId": "ee73e7f4-9be2-4820-a177-d156af0f534e"
      },
      "outputs": [
        {
          "data": {
            "text/html": [
              "<div>\n",
              "<style scoped>\n",
              "    .dataframe tbody tr th:only-of-type {\n",
              "        vertical-align: middle;\n",
              "    }\n",
              "\n",
              "    .dataframe tbody tr th {\n",
              "        vertical-align: top;\n",
              "    }\n",
              "\n",
              "    .dataframe thead th {\n",
              "        text-align: right;\n",
              "    }\n",
              "</style>\n",
              "<table border=\"1\" class=\"dataframe\">\n",
              "  <thead>\n",
              "    <tr style=\"text-align: right;\">\n",
              "      <th></th>\n",
              "      <th>SalesID</th>\n",
              "      <th>MachineID</th>\n",
              "      <th>ModelID</th>\n",
              "      <th>datasource</th>\n",
              "      <th>auctioneerID</th>\n",
              "      <th>YearMade</th>\n",
              "      <th>MachineHoursCurrentMeter</th>\n",
              "      <th>UsageBand</th>\n",
              "      <th>fiModelDesc</th>\n",
              "      <th>fiBaseModel</th>\n",
              "      <th>...</th>\n",
              "      <th>Undercarriage_Pad_Width_is_missing</th>\n",
              "      <th>Stick_Length_is_missing</th>\n",
              "      <th>Thumb_is_missing</th>\n",
              "      <th>Pattern_Changer_is_missing</th>\n",
              "      <th>Grouser_Type_is_missing</th>\n",
              "      <th>Backhoe_Mounting_is_missing</th>\n",
              "      <th>Blade_Type_is_missing</th>\n",
              "      <th>Travel_Controls_is_missing</th>\n",
              "      <th>Differential_Type_is_missing</th>\n",
              "      <th>Steering_Controls_is_missing</th>\n",
              "    </tr>\n",
              "  </thead>\n",
              "  <tbody>\n",
              "    <tr>\n",
              "      <th>0</th>\n",
              "      <td>1227829</td>\n",
              "      <td>1006309</td>\n",
              "      <td>3168</td>\n",
              "      <td>121</td>\n",
              "      <td>3</td>\n",
              "      <td>1999</td>\n",
              "      <td>3688.0</td>\n",
              "      <td>2</td>\n",
              "      <td>499</td>\n",
              "      <td>180</td>\n",
              "      <td>...</td>\n",
              "      <td>True</td>\n",
              "      <td>True</td>\n",
              "      <td>True</td>\n",
              "      <td>True</td>\n",
              "      <td>True</td>\n",
              "      <td>True</td>\n",
              "      <td>True</td>\n",
              "      <td>True</td>\n",
              "      <td>True</td>\n",
              "      <td>True</td>\n",
              "    </tr>\n",
              "    <tr>\n",
              "      <th>1</th>\n",
              "      <td>1227844</td>\n",
              "      <td>1022817</td>\n",
              "      <td>7271</td>\n",
              "      <td>121</td>\n",
              "      <td>3</td>\n",
              "      <td>1000</td>\n",
              "      <td>28555.0</td>\n",
              "      <td>1</td>\n",
              "      <td>831</td>\n",
              "      <td>292</td>\n",
              "      <td>...</td>\n",
              "      <td>True</td>\n",
              "      <td>True</td>\n",
              "      <td>True</td>\n",
              "      <td>True</td>\n",
              "      <td>True</td>\n",
              "      <td>True</td>\n",
              "      <td>True</td>\n",
              "      <td>True</td>\n",
              "      <td>False</td>\n",
              "      <td>False</td>\n",
              "    </tr>\n",
              "    <tr>\n",
              "      <th>2</th>\n",
              "      <td>1227847</td>\n",
              "      <td>1031560</td>\n",
              "      <td>22805</td>\n",
              "      <td>121</td>\n",
              "      <td>3</td>\n",
              "      <td>2004</td>\n",
              "      <td>6038.0</td>\n",
              "      <td>3</td>\n",
              "      <td>1177</td>\n",
              "      <td>404</td>\n",
              "      <td>...</td>\n",
              "      <td>False</td>\n",
              "      <td>False</td>\n",
              "      <td>False</td>\n",
              "      <td>False</td>\n",
              "      <td>False</td>\n",
              "      <td>True</td>\n",
              "      <td>True</td>\n",
              "      <td>True</td>\n",
              "      <td>True</td>\n",
              "      <td>True</td>\n",
              "    </tr>\n",
              "    <tr>\n",
              "      <th>3</th>\n",
              "      <td>1227848</td>\n",
              "      <td>56204</td>\n",
              "      <td>1269</td>\n",
              "      <td>121</td>\n",
              "      <td>3</td>\n",
              "      <td>2006</td>\n",
              "      <td>8940.0</td>\n",
              "      <td>1</td>\n",
              "      <td>287</td>\n",
              "      <td>113</td>\n",
              "      <td>...</td>\n",
              "      <td>False</td>\n",
              "      <td>False</td>\n",
              "      <td>False</td>\n",
              "      <td>False</td>\n",
              "      <td>False</td>\n",
              "      <td>True</td>\n",
              "      <td>True</td>\n",
              "      <td>True</td>\n",
              "      <td>True</td>\n",
              "      <td>True</td>\n",
              "    </tr>\n",
              "    <tr>\n",
              "      <th>4</th>\n",
              "      <td>1227863</td>\n",
              "      <td>1053887</td>\n",
              "      <td>22312</td>\n",
              "      <td>121</td>\n",
              "      <td>3</td>\n",
              "      <td>2005</td>\n",
              "      <td>2286.0</td>\n",
              "      <td>2</td>\n",
              "      <td>566</td>\n",
              "      <td>196</td>\n",
              "      <td>...</td>\n",
              "      <td>True</td>\n",
              "      <td>True</td>\n",
              "      <td>True</td>\n",
              "      <td>True</td>\n",
              "      <td>True</td>\n",
              "      <td>False</td>\n",
              "      <td>False</td>\n",
              "      <td>False</td>\n",
              "      <td>True</td>\n",
              "      <td>True</td>\n",
              "    </tr>\n",
              "  </tbody>\n",
              "</table>\n",
              "<p>5 rows × 101 columns</p>\n",
              "</div>"
            ],
            "text/plain": [
              "   SalesID  MachineID  ModelID  datasource  auctioneerID  YearMade  \\\n",
              "0  1227829    1006309     3168         121             3      1999   \n",
              "1  1227844    1022817     7271         121             3      1000   \n",
              "2  1227847    1031560    22805         121             3      2004   \n",
              "3  1227848      56204     1269         121             3      2006   \n",
              "4  1227863    1053887    22312         121             3      2005   \n",
              "\n",
              "   MachineHoursCurrentMeter  UsageBand  fiModelDesc  fiBaseModel  ...  \\\n",
              "0                    3688.0          2          499          180  ...   \n",
              "1                   28555.0          1          831          292  ...   \n",
              "2                    6038.0          3         1177          404  ...   \n",
              "3                    8940.0          1          287          113  ...   \n",
              "4                    2286.0          2          566          196  ...   \n",
              "\n",
              "   Undercarriage_Pad_Width_is_missing  Stick_Length_is_missing  \\\n",
              "0                                True                     True   \n",
              "1                                True                     True   \n",
              "2                               False                    False   \n",
              "3                               False                    False   \n",
              "4                                True                     True   \n",
              "\n",
              "   Thumb_is_missing  Pattern_Changer_is_missing  Grouser_Type_is_missing  \\\n",
              "0              True                        True                     True   \n",
              "1              True                        True                     True   \n",
              "2             False                       False                    False   \n",
              "3             False                       False                    False   \n",
              "4              True                        True                     True   \n",
              "\n",
              "   Backhoe_Mounting_is_missing  Blade_Type_is_missing  \\\n",
              "0                         True                   True   \n",
              "1                         True                   True   \n",
              "2                         True                   True   \n",
              "3                         True                   True   \n",
              "4                        False                  False   \n",
              "\n",
              "   Travel_Controls_is_missing  Differential_Type_is_missing  \\\n",
              "0                        True                          True   \n",
              "1                        True                         False   \n",
              "2                        True                          True   \n",
              "3                        True                          True   \n",
              "4                       False                          True   \n",
              "\n",
              "   Steering_Controls_is_missing  \n",
              "0                          True  \n",
              "1                         False  \n",
              "2                          True  \n",
              "3                          True  \n",
              "4                          True  \n",
              "\n",
              "[5 rows x 101 columns]"
            ]
          },
          "execution_count": 154,
          "metadata": {},
          "output_type": "execute_result"
        }
      ],
      "source": [
        "\n",
        "df_test=preprocess_data(df_test)\n",
        "df_test.head()"
      ]
    },
    {
      "cell_type": "code",
      "execution_count": null,
      "id": "91a05e82",
      "metadata": {
        "id": "91a05e82",
        "outputId": "1092b994-eb15-4381-f95b-d5bd7acf079a"
      },
      "outputs": [
        {
          "data": {
            "text/plain": [
              "{'auctioneerID_is_missing'}"
            ]
          },
          "execution_count": 155,
          "metadata": {},
          "output_type": "execute_result"
        }
      ],
      "source": [
        "# finding where train set and test set differ\n",
        "set(X_train.columns)-set(df_test.columns)"
      ]
    },
    {
      "cell_type": "code",
      "execution_count": null,
      "id": "3391c9c5",
      "metadata": {
        "id": "3391c9c5",
        "outputId": "9c0584a9-cc4a-4ce4-c427-2bb39e3dfe85"
      },
      "outputs": [
        {
          "data": {
            "text/html": [
              "<div>\n",
              "<style scoped>\n",
              "    .dataframe tbody tr th:only-of-type {\n",
              "        vertical-align: middle;\n",
              "    }\n",
              "\n",
              "    .dataframe tbody tr th {\n",
              "        vertical-align: top;\n",
              "    }\n",
              "\n",
              "    .dataframe thead th {\n",
              "        text-align: right;\n",
              "    }\n",
              "</style>\n",
              "<table border=\"1\" class=\"dataframe\">\n",
              "  <thead>\n",
              "    <tr style=\"text-align: right;\">\n",
              "      <th></th>\n",
              "      <th>SalesID</th>\n",
              "      <th>MachineID</th>\n",
              "      <th>ModelID</th>\n",
              "      <th>datasource</th>\n",
              "      <th>auctioneerID</th>\n",
              "      <th>YearMade</th>\n",
              "      <th>MachineHoursCurrentMeter</th>\n",
              "      <th>UsageBand</th>\n",
              "      <th>fiModelDesc</th>\n",
              "      <th>fiBaseModel</th>\n",
              "      <th>...</th>\n",
              "      <th>Stick_Length_is_missing</th>\n",
              "      <th>Thumb_is_missing</th>\n",
              "      <th>Pattern_Changer_is_missing</th>\n",
              "      <th>Grouser_Type_is_missing</th>\n",
              "      <th>Backhoe_Mounting_is_missing</th>\n",
              "      <th>Blade_Type_is_missing</th>\n",
              "      <th>Travel_Controls_is_missing</th>\n",
              "      <th>Differential_Type_is_missing</th>\n",
              "      <th>Steering_Controls_is_missing</th>\n",
              "      <th>auctioneerID_is_missing</th>\n",
              "    </tr>\n",
              "  </thead>\n",
              "  <tbody>\n",
              "    <tr>\n",
              "      <th>0</th>\n",
              "      <td>1227829</td>\n",
              "      <td>1006309</td>\n",
              "      <td>3168</td>\n",
              "      <td>121</td>\n",
              "      <td>3</td>\n",
              "      <td>1999</td>\n",
              "      <td>3688.0</td>\n",
              "      <td>2</td>\n",
              "      <td>499</td>\n",
              "      <td>180</td>\n",
              "      <td>...</td>\n",
              "      <td>True</td>\n",
              "      <td>True</td>\n",
              "      <td>True</td>\n",
              "      <td>True</td>\n",
              "      <td>True</td>\n",
              "      <td>True</td>\n",
              "      <td>True</td>\n",
              "      <td>True</td>\n",
              "      <td>True</td>\n",
              "      <td>False</td>\n",
              "    </tr>\n",
              "    <tr>\n",
              "      <th>1</th>\n",
              "      <td>1227844</td>\n",
              "      <td>1022817</td>\n",
              "      <td>7271</td>\n",
              "      <td>121</td>\n",
              "      <td>3</td>\n",
              "      <td>1000</td>\n",
              "      <td>28555.0</td>\n",
              "      <td>1</td>\n",
              "      <td>831</td>\n",
              "      <td>292</td>\n",
              "      <td>...</td>\n",
              "      <td>True</td>\n",
              "      <td>True</td>\n",
              "      <td>True</td>\n",
              "      <td>True</td>\n",
              "      <td>True</td>\n",
              "      <td>True</td>\n",
              "      <td>True</td>\n",
              "      <td>False</td>\n",
              "      <td>False</td>\n",
              "      <td>False</td>\n",
              "    </tr>\n",
              "    <tr>\n",
              "      <th>2</th>\n",
              "      <td>1227847</td>\n",
              "      <td>1031560</td>\n",
              "      <td>22805</td>\n",
              "      <td>121</td>\n",
              "      <td>3</td>\n",
              "      <td>2004</td>\n",
              "      <td>6038.0</td>\n",
              "      <td>3</td>\n",
              "      <td>1177</td>\n",
              "      <td>404</td>\n",
              "      <td>...</td>\n",
              "      <td>False</td>\n",
              "      <td>False</td>\n",
              "      <td>False</td>\n",
              "      <td>False</td>\n",
              "      <td>True</td>\n",
              "      <td>True</td>\n",
              "      <td>True</td>\n",
              "      <td>True</td>\n",
              "      <td>True</td>\n",
              "      <td>False</td>\n",
              "    </tr>\n",
              "    <tr>\n",
              "      <th>3</th>\n",
              "      <td>1227848</td>\n",
              "      <td>56204</td>\n",
              "      <td>1269</td>\n",
              "      <td>121</td>\n",
              "      <td>3</td>\n",
              "      <td>2006</td>\n",
              "      <td>8940.0</td>\n",
              "      <td>1</td>\n",
              "      <td>287</td>\n",
              "      <td>113</td>\n",
              "      <td>...</td>\n",
              "      <td>False</td>\n",
              "      <td>False</td>\n",
              "      <td>False</td>\n",
              "      <td>False</td>\n",
              "      <td>True</td>\n",
              "      <td>True</td>\n",
              "      <td>True</td>\n",
              "      <td>True</td>\n",
              "      <td>True</td>\n",
              "      <td>False</td>\n",
              "    </tr>\n",
              "    <tr>\n",
              "      <th>4</th>\n",
              "      <td>1227863</td>\n",
              "      <td>1053887</td>\n",
              "      <td>22312</td>\n",
              "      <td>121</td>\n",
              "      <td>3</td>\n",
              "      <td>2005</td>\n",
              "      <td>2286.0</td>\n",
              "      <td>2</td>\n",
              "      <td>566</td>\n",
              "      <td>196</td>\n",
              "      <td>...</td>\n",
              "      <td>True</td>\n",
              "      <td>True</td>\n",
              "      <td>True</td>\n",
              "      <td>True</td>\n",
              "      <td>False</td>\n",
              "      <td>False</td>\n",
              "      <td>False</td>\n",
              "      <td>True</td>\n",
              "      <td>True</td>\n",
              "      <td>False</td>\n",
              "    </tr>\n",
              "  </tbody>\n",
              "</table>\n",
              "<p>5 rows × 102 columns</p>\n",
              "</div>"
            ],
            "text/plain": [
              "   SalesID  MachineID  ModelID  datasource  auctioneerID  YearMade  \\\n",
              "0  1227829    1006309     3168         121             3      1999   \n",
              "1  1227844    1022817     7271         121             3      1000   \n",
              "2  1227847    1031560    22805         121             3      2004   \n",
              "3  1227848      56204     1269         121             3      2006   \n",
              "4  1227863    1053887    22312         121             3      2005   \n",
              "\n",
              "   MachineHoursCurrentMeter  UsageBand  fiModelDesc  fiBaseModel  ...  \\\n",
              "0                    3688.0          2          499          180  ...   \n",
              "1                   28555.0          1          831          292  ...   \n",
              "2                    6038.0          3         1177          404  ...   \n",
              "3                    8940.0          1          287          113  ...   \n",
              "4                    2286.0          2          566          196  ...   \n",
              "\n",
              "   Stick_Length_is_missing  Thumb_is_missing  Pattern_Changer_is_missing  \\\n",
              "0                     True              True                        True   \n",
              "1                     True              True                        True   \n",
              "2                    False             False                       False   \n",
              "3                    False             False                       False   \n",
              "4                     True              True                        True   \n",
              "\n",
              "   Grouser_Type_is_missing  Backhoe_Mounting_is_missing  \\\n",
              "0                     True                         True   \n",
              "1                     True                         True   \n",
              "2                    False                         True   \n",
              "3                    False                         True   \n",
              "4                     True                        False   \n",
              "\n",
              "   Blade_Type_is_missing  Travel_Controls_is_missing  \\\n",
              "0                   True                        True   \n",
              "1                   True                        True   \n",
              "2                   True                        True   \n",
              "3                   True                        True   \n",
              "4                  False                       False   \n",
              "\n",
              "   Differential_Type_is_missing  Steering_Controls_is_missing  \\\n",
              "0                          True                          True   \n",
              "1                         False                         False   \n",
              "2                          True                          True   \n",
              "3                          True                          True   \n",
              "4                          True                          True   \n",
              "\n",
              "   auctioneerID_is_missing  \n",
              "0                    False  \n",
              "1                    False  \n",
              "2                    False  \n",
              "3                    False  \n",
              "4                    False  \n",
              "\n",
              "[5 rows x 102 columns]"
            ]
          },
          "execution_count": 156,
          "metadata": {},
          "output_type": "execute_result"
        }
      ],
      "source": [
        "#mannually adjust df_test\n",
        "df_test[\"auctioneerID_is_missing\"]=False\n",
        "df_test.head()"
      ]
    },
    {
      "cell_type": "code",
      "execution_count": null,
      "id": "89859a86",
      "metadata": {
        "id": "89859a86",
        "outputId": "2a3f76ea-fc47-4763-b4c1-e7122c55fd40"
      },
      "outputs": [
        {
          "name": "stderr",
          "output_type": "stream",
          "text": [
            "C:\\Users\\Admin\\Desktop\\projects\\bulldozer_price_predictor\\env\\lib\\site-packages\\sklearn\\base.py:493: FutureWarning: The feature names should match those that were passed during fit. Starting version 1.2, an error will be raised.\n",
            "Feature names must be in the same order as they were in fit.\n",
            "\n",
            "  warnings.warn(message, FutureWarning)\n"
          ]
        }
      ],
      "source": [
        "# Making prediction on test data\n",
        "\n",
        "test_preds=f_model.predict(df_test)"
      ]
    },
    {
      "cell_type": "code",
      "execution_count": null,
      "id": "8386f56b",
      "metadata": {
        "id": "8386f56b",
        "outputId": "10c5091e-9618-4137-b3b7-e2cd19be0a55"
      },
      "outputs": [
        {
          "data": {
            "text/plain": [
              "array([22949.70238095, 20415.69822373, 55279.25170068, ...,\n",
              "       18859.41043084, 21228.85487528, 31031.54761905])"
            ]
          },
          "execution_count": 158,
          "metadata": {},
          "output_type": "execute_result"
        }
      ],
      "source": [
        "test_preds"
      ]
    },
    {
      "cell_type": "code",
      "execution_count": null,
      "id": "f459f09c",
      "metadata": {
        "id": "f459f09c",
        "outputId": "006a2050-0adf-4a7f-abca-042bd0e3147d"
      },
      "outputs": [
        {
          "data": {
            "text/html": [
              "<div>\n",
              "<style scoped>\n",
              "    .dataframe tbody tr th:only-of-type {\n",
              "        vertical-align: middle;\n",
              "    }\n",
              "\n",
              "    .dataframe tbody tr th {\n",
              "        vertical-align: top;\n",
              "    }\n",
              "\n",
              "    .dataframe thead th {\n",
              "        text-align: right;\n",
              "    }\n",
              "</style>\n",
              "<table border=\"1\" class=\"dataframe\">\n",
              "  <thead>\n",
              "    <tr style=\"text-align: right;\">\n",
              "      <th></th>\n",
              "      <th>SalesID</th>\n",
              "      <th>SalesPrice</th>\n",
              "    </tr>\n",
              "  </thead>\n",
              "  <tbody>\n",
              "    <tr>\n",
              "      <th>0</th>\n",
              "      <td>1227829</td>\n",
              "      <td>22949.702381</td>\n",
              "    </tr>\n",
              "    <tr>\n",
              "      <th>1</th>\n",
              "      <td>1227844</td>\n",
              "      <td>20415.698224</td>\n",
              "    </tr>\n",
              "    <tr>\n",
              "      <th>2</th>\n",
              "      <td>1227847</td>\n",
              "      <td>55279.251701</td>\n",
              "    </tr>\n",
              "    <tr>\n",
              "      <th>3</th>\n",
              "      <td>1227848</td>\n",
              "      <td>66337.301587</td>\n",
              "    </tr>\n",
              "    <tr>\n",
              "      <th>4</th>\n",
              "      <td>1227863</td>\n",
              "      <td>41633.293651</td>\n",
              "    </tr>\n",
              "    <tr>\n",
              "      <th>...</th>\n",
              "      <td>...</td>\n",
              "      <td>...</td>\n",
              "    </tr>\n",
              "    <tr>\n",
              "      <th>12452</th>\n",
              "      <td>6643171</td>\n",
              "      <td>43314.814815</td>\n",
              "    </tr>\n",
              "    <tr>\n",
              "      <th>12453</th>\n",
              "      <td>6643173</td>\n",
              "      <td>15521.598639</td>\n",
              "    </tr>\n",
              "    <tr>\n",
              "      <th>12454</th>\n",
              "      <td>6643184</td>\n",
              "      <td>18859.410431</td>\n",
              "    </tr>\n",
              "    <tr>\n",
              "      <th>12455</th>\n",
              "      <td>6643186</td>\n",
              "      <td>21228.854875</td>\n",
              "    </tr>\n",
              "    <tr>\n",
              "      <th>12456</th>\n",
              "      <td>6643196</td>\n",
              "      <td>31031.547619</td>\n",
              "    </tr>\n",
              "  </tbody>\n",
              "</table>\n",
              "<p>12457 rows × 2 columns</p>\n",
              "</div>"
            ],
            "text/plain": [
              "       SalesID    SalesPrice\n",
              "0      1227829  22949.702381\n",
              "1      1227844  20415.698224\n",
              "2      1227847  55279.251701\n",
              "3      1227848  66337.301587\n",
              "4      1227863  41633.293651\n",
              "...        ...           ...\n",
              "12452  6643171  43314.814815\n",
              "12453  6643173  15521.598639\n",
              "12454  6643184  18859.410431\n",
              "12455  6643186  21228.854875\n",
              "12456  6643196  31031.547619\n",
              "\n",
              "[12457 rows x 2 columns]"
            ]
          },
          "execution_count": 159,
          "metadata": {},
          "output_type": "execute_result"
        }
      ],
      "source": [
        "# Formating prediction\n",
        "\n",
        "df_preds=pd.DataFrame()\n",
        "df_preds[\"SalesID\"]=df_test[\"SalesID\"]\n",
        "df_preds[\"SalesPrice\"]=test_preds\n",
        "df_preds"
      ]
    },
    {
      "cell_type": "code",
      "execution_count": null,
      "id": "034881ab",
      "metadata": {
        "id": "034881ab"
      },
      "outputs": [],
      "source": [
        "# Export prediction data\n",
        "df_preds.to_csv(\"data/bluebook-for-bulldozers/test_prediction.csv\",index=False)"
      ]
    },
    {
      "cell_type": "markdown",
      "id": "4fc54524",
      "metadata": {
        "id": "4fc54524"
      },
      "source": [
        "## Feature Importance"
      ]
    },
    {
      "cell_type": "code",
      "execution_count": null,
      "id": "b89b44c8",
      "metadata": {
        "id": "b89b44c8"
      },
      "outputs": [],
      "source": [
        "def plot_features(columns,importances,n=20):\n",
        "    df=(pd.DataFrame({\"features\":columns,\n",
        "                     \"feature_importances\":importances})\n",
        "       .sort_values(\"feature_importances\",ascending=False)\n",
        "       .reset_index(drop=True))\n",
        "    \n",
        "    #plot the dataframe\n",
        "    fig,ax=plt.subplots()\n",
        "    ax.barh(df[\"features\"][:n],df[\"feature_importances\"][:n])\n",
        "    ax.set_ylabel(\"Features\")\n",
        "    ax.set_xlabel(\"Feature Importance\")\n",
        "    ax.invert_yaxis()\n",
        "    "
      ]
    },
    {
      "cell_type": "code",
      "execution_count": null,
      "id": "6f1edded",
      "metadata": {
        "id": "6f1edded",
        "outputId": "fd020059-c96b-4745-ab45-583c882c4fcc"
      },
      "outputs": [
        {
          "data": {
            "image/png": "[encoded data removed]",
            "text/plain": [
              "<Figure size 640x480 with 1 Axes>"
            ]
          },
          "metadata": {},
          "output_type": "display_data"
        }
      ],
      "source": [
        "plot_features(X_train.columns,f_model.feature_importances_)"
      ]
    },
    {
      "cell_type": "code",
      "execution_count": null,
      "id": "9a5ce46f",
      "metadata": {
        "id": "9a5ce46f"
      },
      "outputs": [],
      "source": []
    }
  ],
  "metadata": {
    "kernelspec": {
      "display_name": "Python 3 (ipykernel)",
      "language": "python",
      "name": "python3"
    },
    "language_info": {
      "codemirror_mode": {
        "name": "ipython",
        "version": 3
      },
      "file_extension": ".py",
      "mimetype": "text/x-python",
      "name": "python",
      "nbconvert_exporter": "python",
      "pygments_lexer": "ipython3",
      "version": "3.10.8"
    },
    "colab": {
      "provenance": [],
      "include_colab_link": true
    }
  },
  "nbformat": 4,
  "nbformat_minor": 5
}